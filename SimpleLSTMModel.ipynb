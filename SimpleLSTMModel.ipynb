{
 "cells": [
  {
   "cell_type": "code",
   "execution_count": 176,
   "metadata": {},
   "outputs": [],
   "source": [
    "import numpy as np \n",
    "import pandas as pd \n",
    "import matplotlib.pyplot as plt\n",
    "import matplotlib.dates as mdates\n",
    "import seaborn as sns\n",
    "from sklearn import preprocessing\n",
    "import time\n",
    "from datetime import datetime\n",
    "from tqdm.auto import trange, tqdm\n",
    "import os\n",
    "import math\n",
    "import datetime as dt\n",
    "from numpy import newaxis\n",
    "from keras.layers import Dense, Activation, Dropout, LSTM, GRU, SimpleRNN, BatchNormalization\n",
    "from keras.models import Sequential, load_model, Model\n",
    "from keras.callbacks import EarlyStopping, ModelCheckpoint, TensorBoard\n",
    "import matplotlib.pyplot as plt\n",
    "from keras.optimizers import SGD,Adam\n",
    "from sklearn.preprocessing import MinMaxScaler\n",
    "from keras.preprocessing.sequence import TimeseriesGenerator\n",
    "from keras import backend as K\n",
    "from keras.losses import MeanSquaredLogarithmicError\n",
    "from keras import Input"
   ]
  },
  {
   "cell_type": "code",
   "execution_count": 177,
   "metadata": {},
   "outputs": [],
   "source": [
    "def plotTrainFigure(model, x_train, y_train, x_val, y_val, dates, trainDates, valDates, sc2, time_step=6, country='China', daily=False):\n",
    "    if daily:\n",
    "        title = 'New'\n",
    "    else:\n",
    "        title = 'Cumulative'\n",
    "    #--------------------------------------------------Train---------------------------------------------------------#\n",
    "    # Confirmed cases\n",
    "    pre_train_confirmed = []\n",
    "    truth_train_confirmed = []\n",
    "    # Fatalities\n",
    "    pre_train_fatalities = []\n",
    "    truth_train_fatalities = []\n",
    "\n",
    "    for i in range(len(x_train)):\n",
    "        testx = np.array([x_train[i]])\n",
    "        testy = np.array([y_train[i]])\n",
    "        #         testx, testy  = train_generator[i]\n",
    "\n",
    "        pre = model.predict(testx)\n",
    "\n",
    "        confirmed_pre = pre[0][0]\n",
    "        confirmed_truth = testy[0][0]\n",
    "        fatalities_pre = pre[0][1]\n",
    "        fatalities_truth = testy[0][1]\n",
    "\n",
    "        t1, t3 = tuple(sc2.inverse_transform([[confirmed_pre, fatalities_pre]])[0])\n",
    "        t2, t4 = tuple(sc2.inverse_transform([[confirmed_truth, fatalities_truth]])[0])\n",
    "        pre_train_confirmed.append(t1)\n",
    "        truth_train_confirmed.append(t2)\n",
    "        pre_train_fatalities.append(t3)\n",
    "        truth_train_fatalities.append(t4)\n",
    "#     trainDates = dataframe[time_step:time_step + len(x_train)].index.values\n",
    "    \n",
    "    #--------------------------------------------------Validation---------------------------------------------------------#\n",
    "    # Confirmed cases\n",
    "    pre_val_confirmed = []\n",
    "    truth_val_confirmed = []\n",
    "    # Fatalities\n",
    "    pre_val_fatalities = []\n",
    "    truth_val_fatalities = []\n",
    "\n",
    "    for i in range(len(x_val)):\n",
    "        testx = np.array([x_val[i]])\n",
    "        testy = np.array([y_val[i]])\n",
    "\n",
    "        pre = model.predict(testx)\n",
    "\n",
    "        confirmed_pre = pre[0][0]\n",
    "        confirmed_truth = testy[0][0]\n",
    "        fatalities_pre = pre[0][1]\n",
    "        fatalities_truth = testy[0][1]\n",
    "\n",
    "        t1, t3 = tuple(sc2.inverse_transform([[confirmed_pre, fatalities_pre]])[0])\n",
    "        t2, t4 = tuple(sc2.inverse_transform([[confirmed_truth, fatalities_truth]])[0])\n",
    "        pre_val_confirmed.append(t1)\n",
    "        truth_val_confirmed.append(t2)\n",
    "        pre_val_fatalities.append(t3)\n",
    "        truth_val_fatalities.append(t4)\n",
    "#     valDates = dataframe[time_step + len(x_train):].index.values\n",
    "    \n",
    "#     dates = dataframe.index.values\n",
    "    #--------------------------------------------------Plot---------------------------------------------------------#\n",
    "    dates  = date_remove_year(dates)\n",
    "    trainDates  = date_remove_year(trainDates)\n",
    "    valDates  = date_remove_year(valDates)\n",
    "#     dates = dateStrs_to_dateframe(dates)\n",
    "#     trainDates  = dateStrs_to_dateframe(trainDates)\n",
    "#     valDates  = dateStrs_to_dateframe(valDates)\n",
    "    \n",
    "    print(len(trainDates), len(pre_train_confirmed), len(truth_train_confirmed))\n",
    "    print(len(valDates), len(pre_val_confirmed), len(truth_val_confirmed))\n",
    "    \n",
    "    Confirmed = pd.DataFrame({'Date': trainDates, 'Prediction': pre_train_confirmed, 'Real cases': truth_train_confirmed})\n",
    "    Confirmed.set_index(['Date'], inplace=True)\n",
    "\n",
    "    Fatalities = pd.DataFrame({'Date': trainDates, 'Prediction': pre_train_fatalities, 'Real cases': truth_train_fatalities})\n",
    "    Fatalities.set_index(['Date'], inplace=True)\n",
    "\n",
    "    Confirmed['Prediction'] = Confirmed['Prediction'].astype(int)\n",
    "    Confirmed['Real cases'] = Confirmed['Real cases'].astype(int)\n",
    "    Fatalities['Prediction'] = Fatalities['Prediction'].astype(int)\n",
    "    Fatalities['Real cases'] = Fatalities['Real cases'].astype(int)\n",
    "\n",
    "    fig, (ax1, ax2) = plt.subplots(1, 2, figsize=(50, 10))\n",
    "#     Confirmed.plot(ax=ax1)\n",
    "    ax1.plot(trainDates, pre_train_confirmed, 'o--', color='violet')\n",
    "    ax1.plot(trainDates, truth_train_confirmed, 'o--', color='coral')\n",
    "    ax1.plot(valDates, pre_val_confirmed, 'o--', color='blue')  \n",
    "    ax1.plot(valDates, truth_val_confirmed, 'o--', color='green')\n",
    "    ax1.legend(['Predicted cases in train and val set', 'Real cases in train and val set', \n",
    "                'Predicted cases in test set', 'Real cases in test set'], loc='upper left')\n",
    "    ax1.set_xticklabels(dates, rotation=45)\n",
    "#     ax1.set_xticks(range(0,len(dates), 5))\n",
    "#     ax1.set_xticklabels([dates[i] for i in range(len(dates)) if i % 5==0])  \n",
    "# or\n",
    "#     ax1.xaxis.set_major_locator(mdates.DayLocator(interval=6))\n",
    "#     ax1.xaxis.set_major_formatter(mdates.DateFormatter('%m-%d'))\n",
    "#     \n",
    "    ax1.set_title(country + \" \" + title+ \" confirmed cases \", size=13)\n",
    "    ax1.set_ylabel(\"Number of cases\", size=13)\n",
    "    ax1.set_xlabel(\"Date\", size=13)\n",
    "\n",
    "#     Fatalities.plot(ax=ax2)\n",
    "    ax2.plot(trainDates, pre_train_fatalities, 'o--', color='violet')\n",
    "    ax2.plot(trainDates, truth_train_fatalities, 'o--', color='coral')\n",
    "    ax2.plot(valDates, pre_val_fatalities, 'o--', color='blue')  \n",
    "    ax2.plot(valDates, truth_val_fatalities, 'o--', color='green')\n",
    "    ax2.legend(['Predicted fatalities in train and val set', 'Real fatalities in train and val set', \n",
    "                'Predicted fatalities in test set', 'Real fatalities in test set'], loc='upper left')\n",
    "    ax2.set_xticklabels(dates, rotation=45)\n",
    "\n",
    "    ax2.set_title(country + \" \" + title+  \" Fatalities \", size=13)\n",
    "    ax2.set_ylabel(\"Number of cases\", size=13)\n",
    "    ax2.set_xlabel(\"Date\", size=13)\n",
    "    fig.savefig(country+title+'Result.png')\n",
    "    return Confirmed.copy(), Fatalities.copy()"
   ]
  },
  {
   "cell_type": "code",
   "execution_count": 178,
   "metadata": {},
   "outputs": [],
   "source": [
    "# Confirmed_train, Fatalities_train = plotTrainFigure(model, X_trainAndVal, Y_trainAndVal, X_test, Y_test, \n",
    "#                                                     dates, trainAndValDates, testDates, scb, time_step=time_step, country=country)"
   ]
  },
  {
   "cell_type": "code",
   "execution_count": 179,
   "metadata": {},
   "outputs": [],
   "source": [
    "def datelist(beginDate, endDate):\n",
    "    # beginDate, endDate are something like ‘20160601’\n",
    "    date_l=[datetime.strftime(x,'%Y-%m-%d') for x in list(pd.date_range(start=beginDate, end=endDate))]\n",
    "    return date_l"
   ]
  },
  {
   "cell_type": "code",
   "execution_count": 180,
   "metadata": {},
   "outputs": [],
   "source": [
    "def date_remove_year(dates):\n",
    "    return [datetime.strftime(datetime.strptime(x, '%Y-%m-%d'),'%m-%d') for x in dates]"
   ]
  },
  {
   "cell_type": "code",
   "execution_count": 181,
   "metadata": {},
   "outputs": [],
   "source": [
    "def dateStrs_to_dateframe(dates):\n",
    "    return [datetime.strptime(x, '%Y-%m-%d') for x in dates]"
   ]
  },
  {
   "cell_type": "code",
   "execution_count": 182,
   "metadata": {},
   "outputs": [],
   "source": [
    "def printFigure(history):\n",
    "    plt.plot(history.history['loss'])\n",
    "    plt.plot(history.history['val_loss'])\n",
    "    plt.title('Loss over epochs')\n",
    "    plt.ylabel('Loss')\n",
    "    plt.xlabel('Epoch')\n",
    "    plt.legend(['Train', 'Validation'], loc='best')\n",
    "    plt.show()"
   ]
  },
  {
   "cell_type": "code",
   "execution_count": 183,
   "metadata": {},
   "outputs": [],
   "source": [
    "def MaxMinNormalization(data, feature_range=(0,1), split=0.8):\n",
    "    sc = MinMaxScaler(feature_range=feature_range)\n",
    "    scaled_data = sc.fit_transform(data.reshape(-1, 1)) if len(data.shape)==1 else sc.fit_transform(data)\n",
    "#     scaled_data = data\n",
    "    scaled_train = scaled_data[:int(len(scaled_data) * split)]\n",
    "    scaled_val = scaled_data[int(len(scaled_data) * split):]\n",
    "    return scaled_train, scaled_val, sc"
   ]
  },
  {
   "cell_type": "code",
   "execution_count": 184,
   "metadata": {},
   "outputs": [],
   "source": [
    "def MaxMinNormalization2(data):\n",
    "    sc = MinMaxScaler(feature_range=(0,1))\n",
    "    scaled_data = sc.fit_transform(data.reshape(-1, 1)) if len(data.shape)==1 else sc.fit_transform(data)\n",
    "    return scaled_data, sc"
   ]
  },
  {
   "cell_type": "markdown",
   "metadata": {},
   "source": [
    "## Import data"
   ]
  },
  {
   "cell_type": "code",
   "execution_count": 185,
   "metadata": {},
   "outputs": [],
   "source": [
    "rootPath = 'D:/Dropbox/Project/code/Python/COVID19-Global-Forecasting/data/'\n",
    "trainFileName = 'train.csv'\n",
    "testFileName = 'test.csv'\n",
    "trainWithFlightFileName = 'train_flight.csv'\n",
    "enrichedDataFileName = 'enriched_covid_19_week_2.csv'"
   ]
  },
  {
   "cell_type": "markdown",
   "metadata": {},
   "source": [
    "### Load file"
   ]
  },
  {
   "cell_type": "code",
   "execution_count": 186,
   "metadata": {},
   "outputs": [],
   "source": [
    "def loadDataByCountry(Country, data_all=None, dateRange= ('2020-01-22','2020-04-13'), is_startFromFirstCaseDay=False, daily=False):\n",
    "    confirmed_total_date = data_all[data_all['Country_Region']==Country].groupby(['Date']).agg({'ConfirmedCases':['sum']})\n",
    "    flight_total_date = data_all[data_all['Country_Region']==Country].groupby(['Date']).agg({'DepartureFlight':['mean']})\n",
    "    data = data_all[data_all['Country_Region']==Country].groupby(['Date']).agg({'ConfirmedCases':['sum'],\n",
    "                                                                                'Fatalities':['sum'],\n",
    "                                                                                'DepartureFlight':['mean'],\n",
    "                                                                                'hospibed':['mean'],\n",
    "                                                                                'lung':['mean'],\n",
    "                                                                                'total_pop':['mean'],\n",
    "                                                                                'density':['mean'],\n",
    "                                                                                'age_100+':['mean']})\n",
    "    day = flight_total_date.shape[0]\n",
    "#     for i in tqdm(range(day), desc='Complete zero-value in flight data'):\n",
    "#         if flight_total_date.iloc[i].values[0]==0:\n",
    "#             flight_total_date.iloc[i] = int((flight_total_date.iloc[i-1]+flight_total_date.iloc[i+1])/2)\n",
    "    \n",
    "    is_FirstCase = False\n",
    "    FirstCaseDate = dateRange[0]\n",
    "    for i in tqdm(range(day), desc='Complete zero-value in data'):\n",
    "        Date = data.iloc[i].name\n",
    "        if not is_FirstCase:\n",
    "            if data.iloc[i].values[1]!=0:\n",
    "                print('For ', Country, 'The first case during the period just has been found', Date)\n",
    "                FirstCaseDate = Date\n",
    "                is_FirstCase = True\n",
    "            \n",
    "        if data.iloc[i].values[2]==0:\n",
    "            data.loc[Date,'DepartureFlight'] = int((data.iloc[i-1]['DepartureFlight']+data.iloc[i+1]['DepartureFlight'])/2)\n",
    "    \n",
    "    if daily:\n",
    "        data_ConfirmedCases = data.ConfirmedCases.diff()\n",
    "        data_Fatalities = data.Fatalities.diff()\n",
    "        \n",
    "        if not is_startFromFirstCaseDay:\n",
    "            data.ConfirmedCases = data_ConfirmedCases\n",
    "            data.Fatalities = data_Fatalities\n",
    "            return data.iloc[1:].loc[dateRange[0]: dateRange[1]]\n",
    "        else:\n",
    "            data.ConfirmedCases = data_ConfirmedCases\n",
    "            data.Fatalities = data_Fatalities\n",
    "            return data.iloc[1:].loc[FirstCaseDate: dateRange[1]]\n",
    "    \n",
    "    if not is_startFromFirstCaseDay:   \n",
    "        return data.loc[dateRange[0]: dateRange[1]]\n",
    "    else:\n",
    "        return data.loc[FirstCaseDate: dateRange[1]]\n"
   ]
  },
  {
   "cell_type": "code",
   "execution_count": 187,
   "metadata": {},
   "outputs": [],
   "source": [
    "# dateRange= ('2020-01-22','2020-04-13')\n",
    "# data.iloc[1:].loc[dateRange[0]: dateRange[1]]\n",
    "# loadDataByCountry(Country = 'China', data_all=rich_data, is_startFromFirstCaseDay=True, daily=True)"
   ]
  },
  {
   "cell_type": "code",
   "execution_count": 188,
   "metadata": {},
   "outputs": [],
   "source": [
    "def load_extra_data(extra_data_df=None):\n",
    "    extra_data_df[\"Country_Region\"] = [country_name.replace(\"'\",\"\") if country_name.find('_')<0 else country_name[:country_name.find('_')].replace(\"'\",\"\") for country_name in extra_data_df[\"Country_Region\"]]\n",
    "\n",
    "#     extra_data_df[\"restrictions\"] = extra_data_df[\"restrictions\"].astype(\"int\")\n",
    "#     extra_data_df[\"quarantine\"] = extra_data_df[\"quarantine\"].astype(\"int\")\n",
    "#     extra_data_df[\"schools\"] = extra_data_df[\"schools\"].astype(\"int\")\n",
    "    extra_data_df[\"total_pop\"] = extra_data_df[\"total_pop\"].astype(\"float\")\n",
    "    extra_data_df[\"density\"] = extra_data_df[\"density\"].astype(\"float\")\n",
    "    extra_data_df[\"hospibed\"] = extra_data_df[\"hospibed\"].astype(\"float\")\n",
    "    extra_data_df[\"lung\"] = extra_data_df[\"lung\"].astype(\"float\")\n",
    "    extra_data_df[\"age_100+\"] = extra_data_df[\"age_100+\"].astype(\"float\")\n",
    "    \n",
    "    extra_data_df[\"total_pop\"] = extra_data_df[\"total_pop\"]/max(extra_data_df[\"total_pop\"])\n",
    "    extra_data_df[\"density\"] = extra_data_df[\"density\"]/max(extra_data_df[\"density\"])\n",
    "    extra_data_df[\"hospibed\"] = extra_data_df[\"hospibed\"]/max(extra_data_df[\"hospibed\"])\n",
    "    extra_data_df[\"lung\"] = extra_data_df[\"lung\"]/max(extra_data_df[\"lung\"])\n",
    "    extra_data_df[\"age_100+\"] = extra_data_df[\"age_100+\"]/max(extra_data_df[\"age_100+\"])\n",
    "\n",
    "    extra_data_df = extra_data_df[[\"Country_Region\",\"Date\",\"hospibed\",\"lung\",\"total_pop\",\"density\",\"age_100+\"]]\n",
    "    return extra_data_df"
   ]
  },
  {
   "cell_type": "code",
   "execution_count": 189,
   "metadata": {},
   "outputs": [],
   "source": [
    "def merge_extra_data(extra_data_df=None, raw_data=None):\n",
    "    extra_data = load_extra_data(extra_data_df=extra_data_df)\n",
    "    raw_data[\"Country_Region\"] = [country_name.replace(\"'\",\"\") for country_name in raw_data[\"Country_Region\"]]\n",
    "    train_df = raw_data.merge(extra_data, how=\"left\", on=['Country_Region','Date']).drop_duplicates()\n",
    "    \n",
    "    for country_region in train_df.Country_Region.unique():\n",
    "        query_df = train_df.query(\"Country_Region=='\"+country_region+\"' and Date=='2020-03-25'\")\n",
    "        train_df.loc[(train_df[\"Country_Region\"]==country_region) & (train_df[\"Date\"]>\"2020-03-25\"),\"total_pop\"] = query_df.total_pop.values[0]\n",
    "        train_df.loc[(train_df[\"Country_Region\"]==country_region) & (train_df[\"Date\"]>\"2020-03-25\"),\"hospibed\"] = query_df.hospibed.values[0]\n",
    "        train_df.loc[(train_df[\"Country_Region\"]==country_region) & (train_df[\"Date\"]>\"2020-03-25\"),\"density\"] = query_df.density.values[0]\n",
    "        train_df.loc[(train_df[\"Country_Region\"]==country_region) & (train_df[\"Date\"]>\"2020-03-25\"),\"lung\"] = query_df.lung.values[0]\n",
    "        train_df.loc[(train_df[\"Country_Region\"]==country_region) & (train_df[\"Date\"]>\"2020-03-25\"),\"age_100+\"] = query_df[\"age_100+\"].values[0]\n",
    "    return train_df"
   ]
  },
  {
   "cell_type": "markdown",
   "metadata": {},
   "source": [
    "## LSTM model"
   ]
  },
  {
   "cell_type": "code",
   "execution_count": 190,
   "metadata": {},
   "outputs": [],
   "source": [
    "def root_mean_squared_error(y_true, y_pred):\n",
    "    return K.sqrt(K.mean(K.square(K.log(y_pred) - K.log(y_true)), axis=-1)) "
   ]
  },
  {
   "cell_type": "code",
   "execution_count": 191,
   "metadata": {},
   "outputs": [],
   "source": [
    "def aLSTM(time_step = 6, nfeatures=3):\n",
    "    inputs = Input(shape=(time_step,nfeatures))\n",
    "    lstm1 = LSTM(128, return_sequences = True, recurrent_dropout=0.5)(inputs)\n",
    "    \n",
    "    # Confiromed cases\n",
    "    lstmC = LSTM(64)(lstm1)\n",
    "    denseC1 = Dense(32, activation='relu')(lstmC)\n",
    "    dropC1 = Dropout(0.5)(denseC1)\n",
    "    denseC2 = Dense(2, activation='relu')(dropC1)\n",
    "    \n",
    "    # Fatalities\n",
    "#     lstmF = LSTM(32)(lstm1)\n",
    "#     denseF1 = Dense(128)(lstmF)\n",
    "#     dropF1 = Dropout(0.5)(denseF1)\n",
    "#     denseF2 = Dense(1, activation='relu')(dropF1)\n",
    "    \n",
    "    model = Model(inputs=inputs, outputs=denseC2)\n",
    "#     \n",
    "    model.compile(loss=MeanSquaredLogarithmicError(), optimizer='adam', metrics = ['accuracy'])\n",
    "    model.summary()\n",
    "    return model\n",
    "    "
   ]
  },
  {
   "cell_type": "code",
   "execution_count": 192,
   "metadata": {},
   "outputs": [],
   "source": [
    "# rich_data.Country_Region.unique()"
   ]
  },
  {
   "cell_type": "markdown",
   "metadata": {},
   "source": [
    "## Training "
   ]
  },
  {
   "cell_type": "code",
   "execution_count": 193,
   "metadata": {},
   "outputs": [],
   "source": [
    "def multi_country(country, data_all, is_startFromFirstCaseDay, daily, length):\n",
    "    data = loadDataByCountry(Country = country, data_all=rich_data, is_startFromFirstCaseDay=True, daily=daily)\n",
    "    data_CandF = data.values[:,0:2]\n",
    "    # Consider all features\n",
    "    data_multi_features = data.values\n",
    "    scaled_data_b,scb = MaxMinNormalization2(data = data_CandF)\n",
    "    scaled_data_c, scc = MaxMinNormalization2(data = data_multi_features)\n",
    "    data_gen = TimeseriesGenerator(scaled_data_c,scaled_data_b, length =length , batch_size=1)\n",
    "    X_data = []\n",
    "    Y_data = []\n",
    "    for i in range(len(data_gen)):\n",
    "        X,Y= data_gen[i]\n",
    "        X_data.append(X[0])\n",
    "        Y_data.append(Y[0])\n",
    "    return X_data, Y_data"
   ]
  },
  {
   "cell_type": "code",
   "execution_count": 194,
   "metadata": {},
   "outputs": [],
   "source": [
    "data_test = pd.read_csv(rootPath+testFileName)\n",
    "data_all = pd.read_csv(rootPath+trainWithFlightFileName)\n",
    "data_all.Province_State.fillna(\"None\", inplace=True)\n",
    "# data_all = data_all.drop(['Province_State'], axis=1)\n",
    "extra_data_df = pd.read_csv(rootPath+enrichedDataFileName)\n",
    "rich_data = merge_extra_data(extra_data_df=extra_data_df, raw_data=data_all)\n",
    "dayList =datelist ('20200122','20200413')"
   ]
  },
  {
   "cell_type": "code",
   "execution_count": 195,
   "metadata": {},
   "outputs": [
    {
     "data": {
      "application/vnd.jupyter.widget-view+json": {
       "model_id": "f0fe52c62573476e974a47e3108a95be",
       "version_major": 2,
       "version_minor": 0
      },
      "text/plain": [
       "HBox(children=(FloatProgress(value=0.0, description='Complete zero-value in data', max=83.0, style=ProgressSty…"
      ]
     },
     "metadata": {},
     "output_type": "display_data"
    },
    {
     "name": "stdout",
     "output_type": "stream",
     "text": [
      "For  US The first case during the period just has been found 2020-03-10\n",
      "\n"
     ]
    },
    {
     "data": {
      "application/vnd.jupyter.widget-view+json": {
       "model_id": "709e12034b7e4060ac1759f8df0406de",
       "version_major": 2,
       "version_minor": 0
      },
      "text/plain": [
       "HBox(children=(FloatProgress(value=0.0, description='Complete zero-value in data', max=83.0, style=ProgressSty…"
      ]
     },
     "metadata": {},
     "output_type": "display_data"
    },
    {
     "name": "stdout",
     "output_type": "stream",
     "text": [
      "For  Canada The first case during the period just has been found 2020-03-09\n",
      "\n"
     ]
    },
    {
     "data": {
      "application/vnd.jupyter.widget-view+json": {
       "model_id": "6784ede4ad6d401ca04eede0546a4e30",
       "version_major": 2,
       "version_minor": 0
      },
      "text/plain": [
       "HBox(children=(FloatProgress(value=0.0, description='Complete zero-value in data', max=83.0, style=ProgressSty…"
      ]
     },
     "metadata": {},
     "output_type": "display_data"
    },
    {
     "name": "stdout",
     "output_type": "stream",
     "text": [
      "For  France The first case during the period just has been found 2020-02-15\n",
      "\n"
     ]
    },
    {
     "data": {
      "application/vnd.jupyter.widget-view+json": {
       "model_id": "a7b095de227d4d2085f808d2e6221603",
       "version_major": 2,
       "version_minor": 0
      },
      "text/plain": [
       "HBox(children=(FloatProgress(value=0.0, description='Complete zero-value in data', max=83.0, style=ProgressSty…"
      ]
     },
     "metadata": {},
     "output_type": "display_data"
    },
    {
     "name": "stdout",
     "output_type": "stream",
     "text": [
      "For  Japan The first case during the period just has been found 2020-02-13\n",
      "\n"
     ]
    },
    {
     "data": {
      "application/vnd.jupyter.widget-view+json": {
       "model_id": "860a31aecf224393aacdfd9152f94bbf",
       "version_major": 2,
       "version_minor": 0
      },
      "text/plain": [
       "HBox(children=(FloatProgress(value=0.0, description='Complete zero-value in data', max=83.0, style=ProgressSty…"
      ]
     },
     "metadata": {},
     "output_type": "display_data"
    },
    {
     "name": "stdout",
     "output_type": "stream",
     "text": [
      "For  Sweden The first case during the period just has been found 2020-03-11\n",
      "\n"
     ]
    },
    {
     "data": {
      "application/vnd.jupyter.widget-view+json": {
       "model_id": "3aa43b61689248dc95b1fe622fbe153b",
       "version_major": 2,
       "version_minor": 0
      },
      "text/plain": [
       "HBox(children=(FloatProgress(value=0.0, description='Complete zero-value in data', max=83.0, style=ProgressSty…"
      ]
     },
     "metadata": {},
     "output_type": "display_data"
    },
    {
     "name": "stdout",
     "output_type": "stream",
     "text": [
      "For  Germany The first case during the period just has been found 2020-03-09\n",
      "\n"
     ]
    },
    {
     "data": {
      "application/vnd.jupyter.widget-view+json": {
       "model_id": "fe0182a1af80452fad7cf713f4c1aa75",
       "version_major": 2,
       "version_minor": 0
      },
      "text/plain": [
       "HBox(children=(FloatProgress(value=0.0, description='Complete zero-value in data', max=83.0, style=ProgressSty…"
      ]
     },
     "metadata": {},
     "output_type": "display_data"
    },
    {
     "name": "stdout",
     "output_type": "stream",
     "text": [
      "For  South Africa The first case during the period just has been found 2020-03-27\n",
      "\n"
     ]
    },
    {
     "data": {
      "application/vnd.jupyter.widget-view+json": {
       "model_id": "ff3ea8cd8b0c4fc3b445b7114644e504",
       "version_major": 2,
       "version_minor": 0
      },
      "text/plain": [
       "HBox(children=(FloatProgress(value=0.0, description='Complete zero-value in data', max=83.0, style=ProgressSty…"
      ]
     },
     "metadata": {},
     "output_type": "display_data"
    },
    {
     "name": "stdout",
     "output_type": "stream",
     "text": [
      "For  Australia The first case during the period just has been found 2020-03-01\n",
      "\n"
     ]
    },
    {
     "data": {
      "application/vnd.jupyter.widget-view+json": {
       "model_id": "cf4f8afe6a9b48a9b6980185892ae01d",
       "version_major": 2,
       "version_minor": 0
      },
      "text/plain": [
       "HBox(children=(FloatProgress(value=0.0, description='Complete zero-value in data', max=83.0, style=ProgressSty…"
      ]
     },
     "metadata": {},
     "output_type": "display_data"
    },
    {
     "name": "stdout",
     "output_type": "stream",
     "text": [
      "For  Italy The first case during the period just has been found 2020-02-21\n",
      "\n"
     ]
    }
   ],
   "source": [
    "split = 0.6\n",
    "save_dir = \"saved_models\"\n",
    "save_fname = os.path.join(save_dir, 'COVID19_LSTM.h5')\n",
    "time_step = 6\n",
    "daily=True\n",
    "\n",
    "X_data = []\n",
    "Y_data = []\n",
    "\n",
    "is_single_country = False\n",
    "country = 'China'\n",
    "if is_single_country:\n",
    "    data = loadDataByCountry(Country = country, data_all=rich_data, is_startFromFirstCaseDay=True, daily=daily)\n",
    "    # Consider confiromed cases and Fatalities\n",
    "    data_CandF = data.values[:,0:2]\n",
    "    # Consider all features\n",
    "    data_multi_features = data.values\n",
    "\n",
    "    scaled_data_b,scb = MaxMinNormalization2(data = data_CandF)\n",
    "    scaled_data_c, scc = MaxMinNormalization2(data = data_multi_features)\n",
    "    data_gen = TimeseriesGenerator(scaled_data_c,scaled_data_b, length = time_step, batch_size=1)\n",
    "    for i in range(len(data_gen)):\n",
    "        X,Y= data_gen[i]\n",
    "        X_data.append(X[0])\n",
    "        Y_data.append(Y[0])\n",
    "else:\n",
    "    if not is_single_country:\n",
    "        countries = ['US',  'Canada','France','Japan','Sweden','Germany','South Africa','Australia','Italy']\n",
    "        for c in countries:\n",
    "            x, y = multi_country(country=c, data_all=rich_data, is_startFromFirstCaseDay=True, daily=daily, length=time_step)\n",
    "            X_data = X_data+x\n",
    "            Y_data = Y_data+y\n",
    "\n",
    "\n",
    "X_data = np.array(X_data)\n",
    "Y_data = np.array(Y_data)"
   ]
  },
  {
   "cell_type": "code",
   "execution_count": null,
   "metadata": {},
   "outputs": [],
   "source": []
  },
  {
   "cell_type": "code",
   "execution_count": 196,
   "metadata": {},
   "outputs": [],
   "source": [
    "# len(data_gen)"
   ]
  },
  {
   "cell_type": "code",
   "execution_count": 197,
   "metadata": {},
   "outputs": [],
   "source": [
    "num_train = int(split*X_data.shape[0])\n",
    "num_test = num_val = int((1-split)/2*X_data.shape[0])\n",
    "# Split data set\n",
    "# Indiex\n",
    "indices = np.array(range(X_data.shape[0]))\n",
    "testI = indices[-num_test:]\n",
    "trainAndValI = np.setdiff1d(indices,testI)\n",
    "trainI = np.random.choice(X_data[trainAndValI].shape[0],size=num_train,replace=False)\n",
    "valI = np.setdiff1d(trainAndValI,trainI)\n",
    "# Data\n",
    "X_train = X_data[trainI]\n",
    "Y_train = Y_data[trainI]\n",
    "X_val = X_data[valI]\n",
    "Y_val = Y_data[valI]\n",
    "X_test = X_data[testI]\n",
    "Y_test = Y_data[testI]\n",
    "if is_single_country:\n",
    "    # Date\n",
    "    dates = data[time_step:].index.values\n",
    "    trainDates = dates[trainI]\n",
    "    valDates = dates[valI]\n",
    "    testDates = dates[testI]\n",
    "    trainAndValDates = dates[trainAndValI]\n",
    "    #\n",
    "    knownI = np.argsort(trainAndValDates)\n",
    "    trainAndValDates = trainAndValDates[knownI]\n",
    "    X_trainAndVal = X_data[knownI]\n",
    "    Y_trainAndVal = Y_data[knownI]"
   ]
  },
  {
   "cell_type": "code",
   "execution_count": 198,
   "metadata": {},
   "outputs": [],
   "source": [
    "epochs = 250\n",
    "batch_size = 8\n",
    "save_fname = os.path.join(save_dir, 'COVID19_LSTM.h5')"
   ]
  },
  {
   "cell_type": "code",
   "execution_count": 199,
   "metadata": {},
   "outputs": [
    {
     "name": "stdout",
     "output_type": "stream",
     "text": [
      "Model: \"model_8\"\n",
      "_________________________________________________________________\n",
      "Layer (type)                 Output Shape              Param #   \n",
      "=================================================================\n",
      "input_8 (InputLayer)         (None, 6, 8)              0         \n",
      "_________________________________________________________________\n",
      "lstm_13 (LSTM)               (None, 6, 128)            70144     \n",
      "_________________________________________________________________\n",
      "lstm_14 (LSTM)               (None, 64)                49408     \n",
      "_________________________________________________________________\n",
      "dense_15 (Dense)             (None, 32)                2080      \n",
      "_________________________________________________________________\n",
      "dropout_8 (Dropout)          (None, 32)                0         \n",
      "_________________________________________________________________\n",
      "dense_16 (Dense)             (None, 2)                 66        \n",
      "=================================================================\n",
      "Total params: 121,698\n",
      "Trainable params: 121,698\n",
      "Non-trainable params: 0\n",
      "_________________________________________________________________\n",
      "[Model] Training Started\n",
      "[Model] 250 epochs, 8 batch size\n",
      "Train on 193 samples, validate on 65 samples\n",
      "Epoch 1/250\n",
      "1/1 [==============================] - 1s 792ms/step - loss: 0.1099 - accuracy: 0.6062 - val_loss: 0.1056 - val_accuracy: 0.4769\n",
      "Epoch 2/250\n",
      "1/1 [==============================] - 0s 21ms/step - loss: 0.1059 - accuracy: 0.4974 - val_loss: 0.1013 - val_accuracy: 0.5077\n",
      "Epoch 3/250\n",
      "1/1 [==============================] - 0s 18ms/step - loss: 0.1008 - accuracy: 0.5181 - val_loss: 0.0925 - val_accuracy: 0.5077\n",
      "Epoch 4/250\n",
      "1/1 [==============================] - 0s 19ms/step - loss: 0.0931 - accuracy: 0.5544 - val_loss: 0.0830 - val_accuracy: 0.5077\n",
      "Epoch 5/250\n",
      "1/1 [==============================] - 0s 26ms/step - loss: 0.0837 - accuracy: 0.5285 - val_loss: 0.0726 - val_accuracy: 0.4923\n",
      "Epoch 6/250\n",
      "1/1 [==============================] - 0s 21ms/step - loss: 0.0762 - accuracy: 0.5699 - val_loss: 0.0619 - val_accuracy: 0.4769\n",
      "Epoch 7/250\n",
      "1/1 [==============================] - 0s 20ms/step - loss: 0.0724 - accuracy: 0.5233 - val_loss: 0.0516 - val_accuracy: 0.4923\n",
      "Epoch 8/250\n",
      "1/1 [==============================] - 0s 19ms/step - loss: 0.0630 - accuracy: 0.5751 - val_loss: 0.0424 - val_accuracy: 0.5231\n",
      "Epoch 9/250\n",
      "1/1 [==============================] - 0s 19ms/step - loss: 0.0497 - accuracy: 0.5596 - val_loss: 0.0348 - val_accuracy: 0.6615\n",
      "Epoch 10/250\n",
      "1/1 [==============================] - 0s 23ms/step - loss: 0.0446 - accuracy: 0.5855 - val_loss: 0.0292 - val_accuracy: 0.7231\n",
      "Epoch 11/250\n",
      "1/1 [==============================] - 0s 20ms/step - loss: 0.0400 - accuracy: 0.5751 - val_loss: 0.0257 - val_accuracy: 0.7385\n",
      "Epoch 12/250\n",
      "1/1 [==============================] - 0s 19ms/step - loss: 0.0391 - accuracy: 0.6373 - val_loss: 0.0237 - val_accuracy: 0.7231\n",
      "Epoch 13/250\n",
      "1/1 [==============================] - 0s 20ms/step - loss: 0.0374 - accuracy: 0.6373 - val_loss: 0.0222 - val_accuracy: 0.6769\n",
      "Epoch 14/250\n",
      "1/1 [==============================] - 0s 21ms/step - loss: 0.0349 - accuracy: 0.6528 - val_loss: 0.0206 - val_accuracy: 0.6615\n",
      "Epoch 15/250\n",
      "1/1 [==============================] - 0s 21ms/step - loss: 0.0357 - accuracy: 0.6373 - val_loss: 0.0187 - val_accuracy: 0.6769\n",
      "Epoch 16/250\n",
      "1/1 [==============================] - 0s 26ms/step - loss: 0.0371 - accuracy: 0.6736 - val_loss: 0.0168 - val_accuracy: 0.6769\n",
      "Epoch 17/250\n",
      "1/1 [==============================] - 0s 19ms/step - loss: 0.0313 - accuracy: 0.6477 - val_loss: 0.0156 - val_accuracy: 0.6923\n",
      "Epoch 18/250\n",
      "1/1 [==============================] - 0s 21ms/step - loss: 0.0300 - accuracy: 0.6788 - val_loss: 0.0154 - val_accuracy: 0.6769\n",
      "Epoch 19/250\n",
      "1/1 [==============================] - 0s 23ms/step - loss: 0.0257 - accuracy: 0.6736 - val_loss: 0.0158 - val_accuracy: 0.6769\n",
      "Epoch 20/250\n",
      "1/1 [==============================] - 0s 23ms/step - loss: 0.0276 - accuracy: 0.7098 - val_loss: 0.0162 - val_accuracy: 0.6615\n",
      "Epoch 21/250\n",
      "1/1 [==============================] - 0s 26ms/step - loss: 0.0295 - accuracy: 0.6788 - val_loss: 0.0167 - val_accuracy: 0.6615\n",
      "Epoch 22/250\n",
      "1/1 [==============================] - 0s 21ms/step - loss: 0.0283 - accuracy: 0.6788 - val_loss: 0.0168 - val_accuracy: 0.6615\n",
      "Epoch 23/250\n",
      "1/1 [==============================] - 0s 23ms/step - loss: 0.0266 - accuracy: 0.6788 - val_loss: 0.0165 - val_accuracy: 0.6615\n",
      "Epoch 24/250\n",
      "1/1 [==============================] - 0s 21ms/step - loss: 0.0279 - accuracy: 0.6995 - val_loss: 0.0161 - val_accuracy: 0.6615\n",
      "Epoch 25/250\n",
      "1/1 [==============================] - 0s 21ms/step - loss: 0.0265 - accuracy: 0.6632 - val_loss: 0.0154 - val_accuracy: 0.6615\n",
      "Epoch 26/250\n",
      "1/1 [==============================] - 0s 20ms/step - loss: 0.0253 - accuracy: 0.6839 - val_loss: 0.0148 - val_accuracy: 0.6615\n",
      "Epoch 27/250\n",
      "1/1 [==============================] - 0s 27ms/step - loss: 0.0231 - accuracy: 0.6736 - val_loss: 0.0143 - val_accuracy: 0.6615\n",
      "Epoch 28/250\n",
      "1/1 [==============================] - 0s 20ms/step - loss: 0.0257 - accuracy: 0.6425 - val_loss: 0.0140 - val_accuracy: 0.6615\n",
      "Epoch 29/250\n",
      "1/1 [==============================] - 0s 23ms/step - loss: 0.0253 - accuracy: 0.6114 - val_loss: 0.0139 - val_accuracy: 0.6615\n",
      "Epoch 30/250\n",
      "1/1 [==============================] - 0s 24ms/step - loss: 0.0258 - accuracy: 0.5803 - val_loss: 0.0139 - val_accuracy: 0.6615\n",
      "Epoch 31/250\n",
      "1/1 [==============================] - 0s 22ms/step - loss: 0.0255 - accuracy: 0.6839 - val_loss: 0.0139 - val_accuracy: 0.6615\n",
      "Epoch 32/250\n",
      "1/1 [==============================] - 0s 20ms/step - loss: 0.0261 - accuracy: 0.6943 - val_loss: 0.0140 - val_accuracy: 0.6615\n",
      "Epoch 33/250\n",
      "1/1 [==============================] - 0s 24ms/step - loss: 0.0261 - accuracy: 0.6425 - val_loss: 0.0141 - val_accuracy: 0.6769\n",
      "Epoch 34/250\n",
      "1/1 [==============================] - 0s 24ms/step - loss: 0.0232 - accuracy: 0.6166 - val_loss: 0.0141 - val_accuracy: 0.6769\n",
      "Epoch 35/250\n",
      "1/1 [==============================] - 0s 26ms/step - loss: 0.0247 - accuracy: 0.5751 - val_loss: 0.0142 - val_accuracy: 0.6769\n",
      "Epoch 36/250\n",
      "1/1 [==============================] - 0s 21ms/step - loss: 0.0230 - accuracy: 0.6062 - val_loss: 0.0143 - val_accuracy: 0.6769\n",
      "Epoch 37/250\n",
      "1/1 [==============================] - 0s 23ms/step - loss: 0.0265 - accuracy: 0.5959 - val_loss: 0.0143 - val_accuracy: 0.6923\n",
      "Epoch 38/250\n",
      "1/1 [==============================] - 0s 20ms/step - loss: 0.0229 - accuracy: 0.6269 - val_loss: 0.0143 - val_accuracy: 0.6923\n",
      "Epoch 39/250\n",
      "1/1 [==============================] - 0s 30ms/step - loss: 0.0232 - accuracy: 0.6943 - val_loss: 0.0143 - val_accuracy: 0.6769\n",
      "Epoch 40/250\n",
      "1/1 [==============================] - 0s 27ms/step - loss: 0.0214 - accuracy: 0.7047 - val_loss: 0.0143 - val_accuracy: 0.6615\n",
      "Epoch 41/250\n",
      "1/1 [==============================] - 0s 21ms/step - loss: 0.0234 - accuracy: 0.6321 - val_loss: 0.0142 - val_accuracy: 0.6615\n",
      "Epoch 42/250\n",
      "1/1 [==============================] - 0s 27ms/step - loss: 0.0242 - accuracy: 0.6218 - val_loss: 0.0142 - val_accuracy: 0.6615\n",
      "Epoch 43/250\n",
      "1/1 [==============================] - 0s 21ms/step - loss: 0.0240 - accuracy: 0.6321 - val_loss: 0.0142 - val_accuracy: 0.6615\n",
      "Epoch 44/250\n",
      "1/1 [==============================] - 0s 22ms/step - loss: 0.0231 - accuracy: 0.6166 - val_loss: 0.0141 - val_accuracy: 0.6615\n",
      "Epoch 45/250\n",
      "1/1 [==============================] - 0s 27ms/step - loss: 0.0223 - accuracy: 0.6632 - val_loss: 0.0141 - val_accuracy: 0.6615\n",
      "Epoch 46/250\n",
      "1/1 [==============================] - 0s 25ms/step - loss: 0.0230 - accuracy: 0.6580 - val_loss: 0.0141 - val_accuracy: 0.6615\n",
      "Epoch 47/250\n",
      "1/1 [==============================] - 0s 26ms/step - loss: 0.0222 - accuracy: 0.6839 - val_loss: 0.0141 - val_accuracy: 0.6615\n",
      "Epoch 48/250\n",
      "1/1 [==============================] - 0s 22ms/step - loss: 0.0218 - accuracy: 0.6736 - val_loss: 0.0140 - val_accuracy: 0.6615\n",
      "Epoch 49/250\n",
      "1/1 [==============================] - 0s 20ms/step - loss: 0.0234 - accuracy: 0.6166 - val_loss: 0.0140 - val_accuracy: 0.6615\n",
      "Epoch 50/250\n",
      "1/1 [==============================] - 0s 30ms/step - loss: 0.0249 - accuracy: 0.6321 - val_loss: 0.0140 - val_accuracy: 0.6615\n",
      "Epoch 51/250\n",
      "1/1 [==============================] - 0s 21ms/step - loss: 0.0240 - accuracy: 0.6891 - val_loss: 0.0139 - val_accuracy: 0.6615\n",
      "Epoch 52/250\n",
      "1/1 [==============================] - 0s 22ms/step - loss: 0.0226 - accuracy: 0.6373 - val_loss: 0.0139 - val_accuracy: 0.6615\n",
      "Epoch 53/250\n",
      "1/1 [==============================] - 0s 21ms/step - loss: 0.0222 - accuracy: 0.6010 - val_loss: 0.0139 - val_accuracy: 0.6615\n",
      "Epoch 54/250\n",
      "1/1 [==============================] - 0s 22ms/step - loss: 0.0216 - accuracy: 0.6321 - val_loss: 0.0138 - val_accuracy: 0.6769\n",
      "Epoch 55/250\n",
      "1/1 [==============================] - 0s 26ms/step - loss: 0.0233 - accuracy: 0.6736 - val_loss: 0.0138 - val_accuracy: 0.6769\n",
      "Epoch 56/250\n",
      "1/1 [==============================] - 0s 20ms/step - loss: 0.0221 - accuracy: 0.6218 - val_loss: 0.0138 - val_accuracy: 0.6769\n",
      "Epoch 57/250\n",
      "1/1 [==============================] - 0s 29ms/step - loss: 0.0225 - accuracy: 0.6891 - val_loss: 0.0138 - val_accuracy: 0.6769\n",
      "Epoch 58/250\n",
      "1/1 [==============================] - 0s 20ms/step - loss: 0.0226 - accuracy: 0.6684 - val_loss: 0.0139 - val_accuracy: 0.6769\n",
      "Epoch 59/250\n",
      "1/1 [==============================] - 0s 24ms/step - loss: 0.0203 - accuracy: 0.6684 - val_loss: 0.0139 - val_accuracy: 0.6769\n",
      "Epoch 60/250\n",
      "1/1 [==============================] - 0s 21ms/step - loss: 0.0233 - accuracy: 0.7254 - val_loss: 0.0139 - val_accuracy: 0.6769\n",
      "Epoch 61/250\n",
      "1/1 [==============================] - 0s 22ms/step - loss: 0.0223 - accuracy: 0.6477 - val_loss: 0.0139 - val_accuracy: 0.6769\n",
      "Epoch 62/250\n",
      "1/1 [==============================] - 0s 25ms/step - loss: 0.0216 - accuracy: 0.6580 - val_loss: 0.0140 - val_accuracy: 0.6923\n",
      "Epoch 63/250\n",
      "1/1 [==============================] - 0s 22ms/step - loss: 0.0228 - accuracy: 0.6684 - val_loss: 0.0140 - val_accuracy: 0.6923\n",
      "Epoch 64/250\n",
      "1/1 [==============================] - 0s 24ms/step - loss: 0.0227 - accuracy: 0.6684 - val_loss: 0.0140 - val_accuracy: 0.6923\n",
      "Epoch 65/250\n",
      "1/1 [==============================] - 0s 20ms/step - loss: 0.0207 - accuracy: 0.6218 - val_loss: 0.0140 - val_accuracy: 0.6923\n",
      "Epoch 66/250\n",
      "1/1 [==============================] - 0s 21ms/step - loss: 0.0220 - accuracy: 0.6632 - val_loss: 0.0139 - val_accuracy: 0.6923\n",
      "Epoch 67/250\n",
      "1/1 [==============================] - 0s 26ms/step - loss: 0.0198 - accuracy: 0.6839 - val_loss: 0.0139 - val_accuracy: 0.6923\n",
      "Epoch 68/250\n",
      "1/1 [==============================] - 0s 25ms/step - loss: 0.0223 - accuracy: 0.6425 - val_loss: 0.0138 - val_accuracy: 0.6923\n",
      "Epoch 69/250\n",
      "1/1 [==============================] - 0s 26ms/step - loss: 0.0221 - accuracy: 0.6632 - val_loss: 0.0138 - val_accuracy: 0.6923\n",
      "Epoch 70/250\n",
      "1/1 [==============================] - 0s 23ms/step - loss: 0.0225 - accuracy: 0.6477 - val_loss: 0.0138 - val_accuracy: 0.7077\n",
      "Epoch 71/250\n",
      "1/1 [==============================] - 0s 30ms/step - loss: 0.0203 - accuracy: 0.7047 - val_loss: 0.0137 - val_accuracy: 0.7077\n",
      "Epoch 72/250\n",
      "1/1 [==============================] - 0s 27ms/step - loss: 0.0213 - accuracy: 0.7202 - val_loss: 0.0136 - val_accuracy: 0.7077\n",
      "Epoch 73/250\n",
      "1/1 [==============================] - 0s 30ms/step - loss: 0.0236 - accuracy: 0.6839 - val_loss: 0.0136 - val_accuracy: 0.7077\n",
      "Epoch 74/250\n",
      "1/1 [==============================] - 0s 22ms/step - loss: 0.0203 - accuracy: 0.6528 - val_loss: 0.0135 - val_accuracy: 0.7077\n",
      "Epoch 75/250\n",
      "1/1 [==============================] - 0s 31ms/step - loss: 0.0207 - accuracy: 0.6632 - val_loss: 0.0135 - val_accuracy: 0.7385\n",
      "Epoch 76/250\n",
      "1/1 [==============================] - 0s 29ms/step - loss: 0.0209 - accuracy: 0.6995 - val_loss: 0.0135 - val_accuracy: 0.7385\n",
      "Epoch 77/250\n",
      "1/1 [==============================] - 0s 23ms/step - loss: 0.0194 - accuracy: 0.6891 - val_loss: 0.0134 - val_accuracy: 0.7385\n",
      "Epoch 78/250\n",
      "1/1 [==============================] - 0s 30ms/step - loss: 0.0227 - accuracy: 0.6839 - val_loss: 0.0134 - val_accuracy: 0.7385\n",
      "Epoch 79/250\n",
      "1/1 [==============================] - 0s 25ms/step - loss: 0.0247 - accuracy: 0.7202 - val_loss: 0.0134 - val_accuracy: 0.7385\n",
      "Epoch 80/250\n",
      "1/1 [==============================] - 0s 23ms/step - loss: 0.0226 - accuracy: 0.6891 - val_loss: 0.0134 - val_accuracy: 0.7385\n",
      "Epoch 81/250\n",
      "1/1 [==============================] - 0s 22ms/step - loss: 0.0230 - accuracy: 0.6788 - val_loss: 0.0134 - val_accuracy: 0.7538\n",
      "Epoch 82/250\n",
      "1/1 [==============================] - 0s 22ms/step - loss: 0.0226 - accuracy: 0.6943 - val_loss: 0.0135 - val_accuracy: 0.7538\n",
      "Epoch 83/250\n",
      "1/1 [==============================] - 0s 27ms/step - loss: 0.0209 - accuracy: 0.6580 - val_loss: 0.0136 - val_accuracy: 0.7385\n",
      "Epoch 84/250\n",
      "1/1 [==============================] - 0s 29ms/step - loss: 0.0192 - accuracy: 0.7047 - val_loss: 0.0136 - val_accuracy: 0.7385\n",
      "Epoch 85/250\n",
      "1/1 [==============================] - 0s 26ms/step - loss: 0.0213 - accuracy: 0.6684 - val_loss: 0.0137 - val_accuracy: 0.7538\n",
      "Epoch 86/250\n",
      "1/1 [==============================] - 0s 23ms/step - loss: 0.0196 - accuracy: 0.6736 - val_loss: 0.0137 - val_accuracy: 0.7385\n",
      "Epoch 87/250\n",
      "1/1 [==============================] - 0s 24ms/step - loss: 0.0206 - accuracy: 0.7565 - val_loss: 0.0137 - val_accuracy: 0.7385\n",
      "Epoch 88/250\n",
      "1/1 [==============================] - 0s 25ms/step - loss: 0.0194 - accuracy: 0.6736 - val_loss: 0.0137 - val_accuracy: 0.7385\n",
      "Epoch 89/250\n",
      "1/1 [==============================] - 0s 25ms/step - loss: 0.0199 - accuracy: 0.6995 - val_loss: 0.0137 - val_accuracy: 0.7538\n",
      "Epoch 90/250\n",
      "1/1 [==============================] - 0s 25ms/step - loss: 0.0232 - accuracy: 0.7306 - val_loss: 0.0136 - val_accuracy: 0.7385\n",
      "Epoch 91/250\n",
      "1/1 [==============================] - 0s 24ms/step - loss: 0.0222 - accuracy: 0.7098 - val_loss: 0.0136 - val_accuracy: 0.7385\n",
      "Epoch 92/250\n",
      "1/1 [==============================] - 0s 24ms/step - loss: 0.0217 - accuracy: 0.7150 - val_loss: 0.0135 - val_accuracy: 0.7385\n",
      "Epoch 93/250\n",
      "1/1 [==============================] - 0s 28ms/step - loss: 0.0210 - accuracy: 0.7358 - val_loss: 0.0135 - val_accuracy: 0.7538\n",
      "Epoch 94/250\n",
      "1/1 [==============================] - 0s 21ms/step - loss: 0.0209 - accuracy: 0.7565 - val_loss: 0.0134 - val_accuracy: 0.7538\n",
      "Epoch 95/250\n",
      "1/1 [==============================] - 0s 30ms/step - loss: 0.0228 - accuracy: 0.7202 - val_loss: 0.0135 - val_accuracy: 0.7385\n",
      "Epoch 96/250\n",
      "1/1 [==============================] - 0s 23ms/step - loss: 0.0205 - accuracy: 0.7150 - val_loss: 0.0136 - val_accuracy: 0.7692\n",
      "Epoch 97/250\n",
      "1/1 [==============================] - 0s 27ms/step - loss: 0.0212 - accuracy: 0.7098 - val_loss: 0.0136 - val_accuracy: 0.7692\n",
      "Epoch 98/250\n",
      "1/1 [==============================] - 0s 29ms/step - loss: 0.0186 - accuracy: 0.7150 - val_loss: 0.0136 - val_accuracy: 0.7692\n",
      "Epoch 99/250\n",
      "1/1 [==============================] - 0s 27ms/step - loss: 0.0198 - accuracy: 0.7047 - val_loss: 0.0136 - val_accuracy: 0.7692\n",
      "Epoch 100/250\n",
      "1/1 [==============================] - 0s 22ms/step - loss: 0.0191 - accuracy: 0.7202 - val_loss: 0.0136 - val_accuracy: 0.7692\n",
      "Epoch 101/250\n",
      "1/1 [==============================] - 0s 23ms/step - loss: 0.0185 - accuracy: 0.6736 - val_loss: 0.0136 - val_accuracy: 0.7692\n",
      "Epoch 102/250\n",
      "1/1 [==============================] - 0s 36ms/step - loss: 0.0199 - accuracy: 0.6736 - val_loss: 0.0135 - val_accuracy: 0.7692\n",
      "Epoch 103/250\n",
      "1/1 [==============================] - 0s 27ms/step - loss: 0.0204 - accuracy: 0.7098 - val_loss: 0.0135 - val_accuracy: 0.7692\n",
      "Epoch 104/250\n",
      "1/1 [==============================] - 0s 23ms/step - loss: 0.0190 - accuracy: 0.7202 - val_loss: 0.0135 - val_accuracy: 0.7692\n",
      "Epoch 105/250\n",
      "1/1 [==============================] - 0s 25ms/step - loss: 0.0189 - accuracy: 0.6839 - val_loss: 0.0135 - val_accuracy: 0.7692\n",
      "Epoch 106/250\n",
      "1/1 [==============================] - 0s 26ms/step - loss: 0.0200 - accuracy: 0.7461 - val_loss: 0.0134 - val_accuracy: 0.7385\n",
      "Epoch 107/250\n",
      "1/1 [==============================] - 0s 29ms/step - loss: 0.0216 - accuracy: 0.6891 - val_loss: 0.0134 - val_accuracy: 0.7385\n",
      "Epoch 108/250\n",
      "1/1 [==============================] - 0s 30ms/step - loss: 0.0195 - accuracy: 0.7202 - val_loss: 0.0133 - val_accuracy: 0.7538\n",
      "Epoch 109/250\n",
      "1/1 [==============================] - 0s 28ms/step - loss: 0.0180 - accuracy: 0.7358 - val_loss: 0.0133 - val_accuracy: 0.7538\n",
      "Epoch 110/250\n",
      "1/1 [==============================] - 0s 25ms/step - loss: 0.0204 - accuracy: 0.7565 - val_loss: 0.0133 - val_accuracy: 0.7538\n",
      "Epoch 111/250\n",
      "1/1 [==============================] - 0s 27ms/step - loss: 0.0194 - accuracy: 0.6736 - val_loss: 0.0133 - val_accuracy: 0.7538\n",
      "Epoch 112/250\n",
      "1/1 [==============================] - 0s 24ms/step - loss: 0.0224 - accuracy: 0.6684 - val_loss: 0.0133 - val_accuracy: 0.7538\n",
      "Epoch 113/250\n",
      "1/1 [==============================] - 0s 27ms/step - loss: 0.0193 - accuracy: 0.7202 - val_loss: 0.0133 - val_accuracy: 0.7538\n",
      "Epoch 114/250\n",
      "1/1 [==============================] - 0s 27ms/step - loss: 0.0184 - accuracy: 0.7306 - val_loss: 0.0133 - val_accuracy: 0.7385\n",
      "Epoch 115/250\n",
      "1/1 [==============================] - 0s 27ms/step - loss: 0.0205 - accuracy: 0.6839 - val_loss: 0.0133 - val_accuracy: 0.7385\n",
      "Epoch 116/250\n",
      "1/1 [==============================] - 0s 29ms/step - loss: 0.0200 - accuracy: 0.7254 - val_loss: 0.0134 - val_accuracy: 0.7385\n",
      "Epoch 117/250\n",
      "1/1 [==============================] - 0s 28ms/step - loss: 0.0198 - accuracy: 0.6943 - val_loss: 0.0134 - val_accuracy: 0.7231\n",
      "Epoch 118/250\n",
      "1/1 [==============================] - 0s 23ms/step - loss: 0.0192 - accuracy: 0.7668 - val_loss: 0.0133 - val_accuracy: 0.7385\n",
      "Epoch 119/250\n",
      "1/1 [==============================] - 0s 25ms/step - loss: 0.0203 - accuracy: 0.7461 - val_loss: 0.0134 - val_accuracy: 0.7385\n",
      "Epoch 120/250\n",
      "1/1 [==============================] - 0s 23ms/step - loss: 0.0175 - accuracy: 0.7409 - val_loss: 0.0134 - val_accuracy: 0.7385\n",
      "Epoch 121/250\n",
      "1/1 [==============================] - 0s 28ms/step - loss: 0.0208 - accuracy: 0.6995 - val_loss: 0.0134 - val_accuracy: 0.7385\n",
      "Epoch 122/250\n",
      "1/1 [==============================] - 0s 34ms/step - loss: 0.0217 - accuracy: 0.7098 - val_loss: 0.0135 - val_accuracy: 0.7385\n",
      "Epoch 123/250\n",
      "1/1 [==============================] - 0s 23ms/step - loss: 0.0186 - accuracy: 0.6995 - val_loss: 0.0135 - val_accuracy: 0.7538\n",
      "Epoch 124/250\n",
      "1/1 [==============================] - 0s 23ms/step - loss: 0.0199 - accuracy: 0.7461 - val_loss: 0.0134 - val_accuracy: 0.7538\n",
      "Epoch 125/250\n",
      "1/1 [==============================] - 0s 23ms/step - loss: 0.0187 - accuracy: 0.7720 - val_loss: 0.0134 - val_accuracy: 0.7385\n",
      "Epoch 126/250\n",
      "1/1 [==============================] - 0s 31ms/step - loss: 0.0175 - accuracy: 0.7306 - val_loss: 0.0134 - val_accuracy: 0.7385\n",
      "Epoch 127/250\n",
      "1/1 [==============================] - 0s 29ms/step - loss: 0.0197 - accuracy: 0.6995 - val_loss: 0.0134 - val_accuracy: 0.7385\n",
      "Epoch 128/250\n",
      "1/1 [==============================] - 0s 27ms/step - loss: 0.0192 - accuracy: 0.6632 - val_loss: 0.0134 - val_accuracy: 0.7538\n",
      "Epoch 129/250\n",
      "1/1 [==============================] - 0s 25ms/step - loss: 0.0187 - accuracy: 0.7047 - val_loss: 0.0133 - val_accuracy: 0.7538\n",
      "Epoch 130/250\n",
      "1/1 [==============================] - 0s 24ms/step - loss: 0.0196 - accuracy: 0.6943 - val_loss: 0.0133 - val_accuracy: 0.7538\n",
      "Epoch 131/250\n",
      "1/1 [==============================] - 0s 22ms/step - loss: 0.0223 - accuracy: 0.6891 - val_loss: 0.0132 - val_accuracy: 0.7538\n",
      "Epoch 132/250\n",
      "1/1 [==============================] - 0s 26ms/step - loss: 0.0205 - accuracy: 0.7150 - val_loss: 0.0132 - val_accuracy: 0.7385\n",
      "Epoch 133/250\n",
      "1/1 [==============================] - 0s 24ms/step - loss: 0.0187 - accuracy: 0.7150 - val_loss: 0.0131 - val_accuracy: 0.7231\n",
      "Epoch 134/250\n",
      "1/1 [==============================] - 0s 30ms/step - loss: 0.0188 - accuracy: 0.6891 - val_loss: 0.0131 - val_accuracy: 0.7538\n",
      "Epoch 135/250\n",
      "1/1 [==============================] - 0s 21ms/step - loss: 0.0198 - accuracy: 0.7409 - val_loss: 0.0131 - val_accuracy: 0.7385\n",
      "Epoch 136/250\n",
      "1/1 [==============================] - 0s 29ms/step - loss: 0.0182 - accuracy: 0.7202 - val_loss: 0.0131 - val_accuracy: 0.7231\n",
      "Epoch 137/250\n",
      "1/1 [==============================] - 0s 24ms/step - loss: 0.0181 - accuracy: 0.6995 - val_loss: 0.0131 - val_accuracy: 0.7385\n",
      "Epoch 138/250\n",
      "1/1 [==============================] - 0s 27ms/step - loss: 0.0188 - accuracy: 0.7150 - val_loss: 0.0131 - val_accuracy: 0.7231\n",
      "Epoch 139/250\n",
      "1/1 [==============================] - 0s 21ms/step - loss: 0.0185 - accuracy: 0.6684 - val_loss: 0.0131 - val_accuracy: 0.7385\n",
      "Epoch 140/250\n",
      "1/1 [==============================] - 0s 23ms/step - loss: 0.0182 - accuracy: 0.7150 - val_loss: 0.0131 - val_accuracy: 0.7385\n",
      "Epoch 141/250\n",
      "1/1 [==============================] - 0s 24ms/step - loss: 0.0194 - accuracy: 0.6736 - val_loss: 0.0132 - val_accuracy: 0.7385\n",
      "Epoch 142/250\n",
      "1/1 [==============================] - 0s 22ms/step - loss: 0.0186 - accuracy: 0.7668 - val_loss: 0.0133 - val_accuracy: 0.7538\n",
      "Epoch 143/250\n",
      "1/1 [==============================] - 0s 24ms/step - loss: 0.0179 - accuracy: 0.7461 - val_loss: 0.0134 - val_accuracy: 0.7385\n",
      "Epoch 144/250\n",
      "1/1 [==============================] - 0s 27ms/step - loss: 0.0185 - accuracy: 0.7047 - val_loss: 0.0134 - val_accuracy: 0.7385\n",
      "Epoch 145/250\n",
      "1/1 [==============================] - 0s 27ms/step - loss: 0.0188 - accuracy: 0.7513 - val_loss: 0.0134 - val_accuracy: 0.7538\n",
      "Epoch 146/250\n",
      "1/1 [==============================] - 0s 28ms/step - loss: 0.0198 - accuracy: 0.7409 - val_loss: 0.0133 - val_accuracy: 0.7385\n",
      "Epoch 147/250\n",
      "1/1 [==============================] - 0s 21ms/step - loss: 0.0184 - accuracy: 0.7254 - val_loss: 0.0133 - val_accuracy: 0.7385\n",
      "Epoch 148/250\n",
      "1/1 [==============================] - 0s 31ms/step - loss: 0.0173 - accuracy: 0.7565 - val_loss: 0.0133 - val_accuracy: 0.7231\n",
      "Epoch 149/250\n",
      "1/1 [==============================] - 0s 26ms/step - loss: 0.0214 - accuracy: 0.6943 - val_loss: 0.0132 - val_accuracy: 0.7231\n",
      "Epoch 150/250\n",
      "1/1 [==============================] - 0s 25ms/step - loss: 0.0210 - accuracy: 0.7617 - val_loss: 0.0132 - val_accuracy: 0.7538\n",
      "Epoch 151/250\n",
      "1/1 [==============================] - 0s 23ms/step - loss: 0.0197 - accuracy: 0.6788 - val_loss: 0.0132 - val_accuracy: 0.7385\n",
      "Epoch 152/250\n",
      "1/1 [==============================] - 0s 25ms/step - loss: 0.0180 - accuracy: 0.7254 - val_loss: 0.0132 - val_accuracy: 0.7385\n",
      "Epoch 153/250\n",
      "1/1 [==============================] - 0s 21ms/step - loss: 0.0184 - accuracy: 0.7513 - val_loss: 0.0133 - val_accuracy: 0.7385\n",
      "Epoch 154/250\n",
      "1/1 [==============================] - 0s 26ms/step - loss: 0.0203 - accuracy: 0.7306 - val_loss: 0.0133 - val_accuracy: 0.7385\n",
      "Epoch 155/250\n",
      "1/1 [==============================] - 0s 28ms/step - loss: 0.0188 - accuracy: 0.7461 - val_loss: 0.0132 - val_accuracy: 0.7385\n",
      "Epoch 156/250\n",
      "1/1 [==============================] - 0s 28ms/step - loss: 0.0175 - accuracy: 0.7513 - val_loss: 0.0132 - val_accuracy: 0.7385\n",
      "Epoch 157/250\n",
      "1/1 [==============================] - 0s 27ms/step - loss: 0.0173 - accuracy: 0.7824 - val_loss: 0.0132 - val_accuracy: 0.7692\n",
      "Epoch 158/250\n",
      "1/1 [==============================] - 0s 22ms/step - loss: 0.0203 - accuracy: 0.7202 - val_loss: 0.0133 - val_accuracy: 0.7385\n",
      "Epoch 159/250\n",
      "1/1 [==============================] - 0s 30ms/step - loss: 0.0192 - accuracy: 0.7461 - val_loss: 0.0133 - val_accuracy: 0.7385\n",
      "Epoch 160/250\n",
      "1/1 [==============================] - 0s 26ms/step - loss: 0.0185 - accuracy: 0.7306 - val_loss: 0.0133 - val_accuracy: 0.7692\n",
      "Epoch 161/250\n",
      "1/1 [==============================] - 0s 23ms/step - loss: 0.0176 - accuracy: 0.7927 - val_loss: 0.0134 - val_accuracy: 0.7692\n",
      "Epoch 162/250\n",
      "1/1 [==============================] - 0s 25ms/step - loss: 0.0176 - accuracy: 0.7254 - val_loss: 0.0134 - val_accuracy: 0.7692\n",
      "Epoch 163/250\n",
      "1/1 [==============================] - 0s 23ms/step - loss: 0.0174 - accuracy: 0.7565 - val_loss: 0.0134 - val_accuracy: 0.7692\n",
      "Epoch 164/250\n",
      "1/1 [==============================] - 0s 26ms/step - loss: 0.0172 - accuracy: 0.7409 - val_loss: 0.0134 - val_accuracy: 0.7692\n",
      "Epoch 165/250\n",
      "1/1 [==============================] - 0s 31ms/step - loss: 0.0173 - accuracy: 0.7150 - val_loss: 0.0133 - val_accuracy: 0.7538\n",
      "Epoch 166/250\n",
      "1/1 [==============================] - 0s 23ms/step - loss: 0.0195 - accuracy: 0.7202 - val_loss: 0.0134 - val_accuracy: 0.7538\n",
      "Epoch 167/250\n",
      "1/1 [==============================] - 0s 23ms/step - loss: 0.0171 - accuracy: 0.7513 - val_loss: 0.0134 - val_accuracy: 0.7385\n",
      "Epoch 168/250\n",
      "1/1 [==============================] - 0s 28ms/step - loss: 0.0196 - accuracy: 0.7150 - val_loss: 0.0134 - val_accuracy: 0.7385\n",
      "Epoch 169/250\n",
      "1/1 [==============================] - 0s 27ms/step - loss: 0.0178 - accuracy: 0.7927 - val_loss: 0.0135 - val_accuracy: 0.7538\n",
      "Epoch 170/250\n",
      "1/1 [==============================] - 0s 24ms/step - loss: 0.0156 - accuracy: 0.7150 - val_loss: 0.0135 - val_accuracy: 0.7538\n",
      "Epoch 171/250\n",
      "1/1 [==============================] - 0s 22ms/step - loss: 0.0201 - accuracy: 0.7047 - val_loss: 0.0135 - val_accuracy: 0.7538\n",
      "Epoch 172/250\n",
      "1/1 [==============================] - 0s 27ms/step - loss: 0.0173 - accuracy: 0.7098 - val_loss: 0.0136 - val_accuracy: 0.7538\n",
      "Epoch 173/250\n",
      "1/1 [==============================] - 0s 28ms/step - loss: 0.0175 - accuracy: 0.6943 - val_loss: 0.0135 - val_accuracy: 0.7385\n",
      "Epoch 174/250\n",
      "1/1 [==============================] - 0s 22ms/step - loss: 0.0193 - accuracy: 0.7254 - val_loss: 0.0135 - val_accuracy: 0.7385\n",
      "Epoch 175/250\n",
      "1/1 [==============================] - 0s 23ms/step - loss: 0.0210 - accuracy: 0.7720 - val_loss: 0.0135 - val_accuracy: 0.7538\n",
      "Epoch 176/250\n",
      "1/1 [==============================] - 0s 21ms/step - loss: 0.0155 - accuracy: 0.7306 - val_loss: 0.0135 - val_accuracy: 0.7692\n",
      "Epoch 177/250\n",
      "1/1 [==============================] - 0s 26ms/step - loss: 0.0182 - accuracy: 0.7098 - val_loss: 0.0134 - val_accuracy: 0.7538\n",
      "Epoch 178/250\n",
      "1/1 [==============================] - 0s 27ms/step - loss: 0.0177 - accuracy: 0.7409 - val_loss: 0.0134 - val_accuracy: 0.7538\n",
      "Epoch 179/250\n",
      "1/1 [==============================] - 0s 26ms/step - loss: 0.0175 - accuracy: 0.7409 - val_loss: 0.0134 - val_accuracy: 0.7538\n",
      "Epoch 180/250\n",
      "1/1 [==============================] - 0s 25ms/step - loss: 0.0174 - accuracy: 0.7358 - val_loss: 0.0134 - val_accuracy: 0.7692\n",
      "Epoch 181/250\n",
      "1/1 [==============================] - 0s 26ms/step - loss: 0.0166 - accuracy: 0.7461 - val_loss: 0.0133 - val_accuracy: 0.7692\n",
      "Epoch 182/250\n",
      "1/1 [==============================] - 0s 22ms/step - loss: 0.0151 - accuracy: 0.6995 - val_loss: 0.0133 - val_accuracy: 0.7538\n",
      "Epoch 183/250\n",
      "1/1 [==============================] - 0s 27ms/step - loss: 0.0186 - accuracy: 0.7461 - val_loss: 0.0132 - val_accuracy: 0.7692\n",
      "Epoch 184/250\n",
      "1/1 [==============================] - 0s 28ms/step - loss: 0.0187 - accuracy: 0.8031 - val_loss: 0.0132 - val_accuracy: 0.7538\n",
      "Epoch 185/250\n",
      "1/1 [==============================] - 0s 24ms/step - loss: 0.0194 - accuracy: 0.7254 - val_loss: 0.0133 - val_accuracy: 0.7385\n",
      "Epoch 186/250\n",
      "1/1 [==============================] - 0s 22ms/step - loss: 0.0186 - accuracy: 0.7617 - val_loss: 0.0133 - val_accuracy: 0.7385\n",
      "Epoch 187/250\n",
      "1/1 [==============================] - 0s 24ms/step - loss: 0.0149 - accuracy: 0.7409 - val_loss: 0.0133 - val_accuracy: 0.7385\n",
      "Epoch 188/250\n",
      "1/1 [==============================] - 0s 21ms/step - loss: 0.0181 - accuracy: 0.7202 - val_loss: 0.0133 - val_accuracy: 0.7538\n",
      "[Model] Training Completed. Model saved as saved_models\\COVID19_LSTM.h5\n"
     ]
    },
    {
     "data": {
      "image/png": "[encoded data removed]",
      "text/plain": [
       "<Figure size 432x288 with 1 Axes>"
      ]
     },
     "metadata": {
      "needs_background": "light"
     },
     "output_type": "display_data"
    },
    {
     "name": "stdout",
     "output_type": "stream",
     "text": [
      "64/64 [==============================] - 0s 218us/step\n",
      "test loss, test acc: [0.016533854883164167, 0.734375]\n"
     ]
    }
   ],
   "source": [
    "nfeatures = X_data.shape[2]\n",
    "model = aLSTM(time_step, nfeatures=nfeatures)\n",
    "print('[Model] Training Started')\n",
    "print('[Model] %s epochs, %s batch size' % (epochs, batch_size))\n",
    "\n",
    "# model.load_weights(save_fname)\n",
    "callbacks = [\n",
    "    EarlyStopping(monitor='val_loss', patience=50),\n",
    "    ModelCheckpoint(filepath=save_fname, monitor='val_loss', save_best_only=True),\n",
    "#     TensorBoard(log_dir='./logs')\n",
    "]\n",
    "history = model.fit(x=X_train,y=Y_train, \n",
    "                    validation_data=(X_val,Y_val),\n",
    "                    validation_steps=1,\n",
    "                    callbacks=callbacks,steps_per_epoch=1,epochs=epochs,verbose=1)\n",
    "model.save(save_fname)\n",
    "print('[Model] Training Completed. Model saved as %s' % save_fname)\n",
    "printFigure(history)\n",
    "\n",
    "# Performance in test data\n",
    "results = model.evaluate(X_test, Y_test)\n",
    "print('test loss, test acc:', results)\n",
    "# show mutil-plots\n",
    "if is_single_country :\n",
    "    # Only plot figures when there is one coutry in data set. \n",
    "    Confirmed_train, Fatalities_train = plotTrainFigure(model, X_trainAndVal, Y_trainAndVal, X_test, Y_test, \n",
    "                                                    dates, trainAndValDates, testDates, scb, time_step=time_step, country=country,daily=daily)\n"
   ]
  },
  {
   "cell_type": "code",
   "execution_count": null,
   "metadata": {},
   "outputs": [],
   "source": []
  }
 ],
 "metadata": {
  "kernelspec": {
   "display_name": "Python 3",
   "language": "python",
   "name": "python3"
  },
  "language_info": {
   "codemirror_mode": {
    "name": "ipython",
    "version": 3
   },
   "file_extension": ".py",
   "mimetype": "text/x-python",
   "name": "python",
   "nbconvert_exporter": "python",
   "pygments_lexer": "ipython3",
   "version": "3.7.6"
  }
 },
 "nbformat": 4,
 "nbformat_minor": 4
}
