{
 "cells": [
  {
   "cell_type": "code",
   "execution_count": 1,
   "metadata": {},
   "outputs": [
    {
     "name": "stderr",
     "output_type": "stream",
     "text": [
      "Using TensorFlow backend.\n"
     ]
    }
   ],
   "source": [
    "import numpy as np \n",
    "import pandas as pd \n",
    "import matplotlib.pyplot as plt\n",
    "import seaborn as sns\n",
    "from sklearn import preprocessing\n",
    "import time\n",
    "from datetime import datetime\n",
    "from tqdm.auto import trange, tqdm\n",
    "import os\n",
    "import math\n",
    "import datetime as dt\n",
    "from numpy import newaxis\n",
    "from keras.layers import Dense, Activation, Dropout, LSTM, GRU, SimpleRNN, BatchNormalization\n",
    "from keras.models import Sequential, load_model, Model\n",
    "from keras.callbacks import EarlyStopping, ModelCheckpoint, TensorBoard\n",
    "import matplotlib.pyplot as plt\n",
    "from keras.optimizers import SGD,Adam\n",
    "from sklearn.preprocessing import MinMaxScaler\n",
    "from keras.preprocessing.sequence import TimeseriesGenerator\n",
    "from keras import backend as K\n",
    "from keras.losses import MeanSquaredLogarithmicError\n",
    "from keras import Input"
   ]
  },
  {
   "cell_type": "code",
   "execution_count": 117,
   "metadata": {},
   "outputs": [],
   "source": [
    "def plotTrainFigure(model, train_generator, dataframe, sc2, time_step=6, country='China'):\n",
    "    # Confirmed cases\n",
    "    pre_confirmed = []\n",
    "    truth_confirmed = []\n",
    "    # Fatalities\n",
    "    pre_fatalities = []\n",
    "    truth_fatalities = []\n",
    "    for i in range(len(train_generator)):\n",
    "        testx, testy = train_generator[i]\n",
    "        \n",
    "        pre = model.predict(testx)\n",
    "        \n",
    "        confirmed_pre = pre[0][0]\n",
    "        confirmed_truth = testy[0][0]\n",
    "        fatalities_pre = pre[0][1]\n",
    "        fatalities_truth = testy[0][1]\n",
    "        \n",
    "        t1, t3 = tuple(sc2.inverse_transform([[confirmed_pre,fatalities_pre]])[0])\n",
    "        t2, t4 = tuple(sc2.inverse_transform([[confirmed_truth,fatalities_truth]])[0])\n",
    "        pre_confirmed.append(t1)\n",
    "        truth_confirmed.append(t2)\n",
    "        pre_fatalities.append(t3)\n",
    "        truth_fatalities.append(t4)\n",
    "    date = dataframe[time_step:int(len(data) * split)].index.values\n",
    "#     date = dataframe[int(len(data) * split):-6].index.values\n",
    "\n",
    "    print(len(date), len(pre_confirmed), len(truth_confirmed))\n",
    "    Confirmed = pd.DataFrame({'Date':date,'Prediction':pre_confirmed,'Real cases':truth_confirmed})\n",
    "    Confirmed.set_index(['Date'], inplace=True)\n",
    "    \n",
    "    Fatalities = pd.DataFrame({'Date':date,'Prediction':pre_fatalities,'Real cases':truth_fatalities})\n",
    "    Fatalities.set_index(['Date'], inplace=True)\n",
    "    \n",
    "    Confirmed['Prediction'] = Confirmed['Prediction'].astype(int)\n",
    "    Confirmed['Real cases'] = Confirmed['Real cases'].astype(int)\n",
    "    Fatalities['Prediction'] = Fatalities['Prediction'].astype(int)\n",
    "    Fatalities['Real cases'] = Fatalities['Real cases'].astype(int)\n",
    "    \n",
    "    fig, (ax1,ax2) = plt.subplots(1, 2, figsize=(17,7))\n",
    "    Confirmed.plot(ax=ax1)\n",
    "    ax1.set_title(country+\" confirmed cases \", size=13)\n",
    "    ax1.set_ylabel(\"Number of cases\", size=13)\n",
    "    ax1.set_xlabel(\"Date\", size=13)\n",
    "    \n",
    "    Fatalities.plot(ax=ax2)\n",
    "    ax2.set_title(country+\" Fatalities \", size=13)\n",
    "    ax2.set_ylabel(\"Number of cases\", size=13)\n",
    "    ax2.set_xlabel(\"Date\", size=13)\n",
    "    \n",
    "    return Confirmed.copy(), Fatalities.copy()"
   ]
  },
  {
   "cell_type": "code",
   "execution_count": 3,
   "metadata": {},
   "outputs": [],
   "source": [
    "def datelist(beginDate, endDate):\n",
    "    # beginDate, endDate are something like ‘20160601’\n",
    "    date_l=[datetime.strftime(x,'%Y-%m-%d') for x in list(pd.date_range(start=beginDate, end=endDate))]\n",
    "    return date_l"
   ]
  },
  {
   "cell_type": "code",
   "execution_count": 4,
   "metadata": {},
   "outputs": [],
   "source": [
    "def printFigure(history):\n",
    "    plt.plot(history.history['loss'])\n",
    "    plt.plot(history.history['val_loss'])\n",
    "    plt.title('Loss over epochs')\n",
    "    plt.ylabel('Loss')\n",
    "    plt.xlabel('Epoch')\n",
    "    plt.legend(['Train', 'Validation'], loc='best')\n",
    "    plt.show()"
   ]
  },
  {
   "cell_type": "code",
   "execution_count": 176,
   "metadata": {},
   "outputs": [],
   "source": [
    "def MaxMinNormalization(data, feature_range=(0,1)):\n",
    "    sc = MinMaxScaler(feature_range=feature_range)\n",
    "    scaled_data = sc.fit_transform(data.reshape(-1, 1)) if len(data.shape)==1 else sc.fit_transform(data)\n",
    "    scaled_train = scaled_data[:int(len(scaled_data) * split)]\n",
    "    scaled_val = scaled_data[int(len(scaled_data) * split):]\n",
    "    return scaled_train, scaled_val, sc"
   ]
  },
  {
   "cell_type": "markdown",
   "metadata": {},
   "source": [
    "## Import data"
   ]
  },
  {
   "cell_type": "code",
   "execution_count": 6,
   "metadata": {},
   "outputs": [],
   "source": [
    "rootPath = 'D:/Dropbox/Project/code/Python/COVID19-Global-Forecasting/data/'\n",
    "trainFileName = 'train.csv'\n",
    "testFileName = 'test.csv'\n",
    "trainWithFlightFileName = 'train_flight.csv'"
   ]
  },
  {
   "cell_type": "markdown",
   "metadata": {},
   "source": [
    "### Load file"
   ]
  },
  {
   "cell_type": "code",
   "execution_count": 167,
   "metadata": {},
   "outputs": [],
   "source": []
  },
  {
   "cell_type": "code",
   "execution_count": 209,
   "metadata": {},
   "outputs": [],
   "source": [
    "def loadDataByCountry(Country = 'China', data_all=None, dateRange= ('2020-01-22','2020-04-13'), is_startFromFirstCaseDay=False):\n",
    "    flight_total_date = data_all[data_all['Country_Region']==Country].groupby(['Date']).agg({'DepartureFlight':['mean']})\n",
    "    data = data_all[data_all['Country_Region']==Country].groupby(['Date']).agg({'ConfirmedCases':['sum'],'Fatalities':['sum'],'DepartureFlight':['mean']})\n",
    "    day = flight_total_date.shape[0]\n",
    "    for i in tqdm(range(day), desc='Complete zero-value in flight data'):\n",
    "        if flight_total_date.iloc[i].values[0]==0:\n",
    "            flight_total_date.iloc[i] = int((flight_total_date.iloc[i-1]+flight_total_date.iloc[i+1])/2)\n",
    "    \n",
    "    is_FirstCase = False\n",
    "    FirstCaseDate = dateRange[0]\n",
    "    for i in tqdm(range(day), desc='Complete zero-value in data'):\n",
    "        Date = data.iloc[i].name\n",
    "        if not is_FirstCase:\n",
    "            if data.iloc[i].values[1]!=0:\n",
    "                print('For ', country, 'The first case during the period just has been found', Date)\n",
    "                FirstCaseDate = Date\n",
    "                is_FirstCase = True\n",
    "            \n",
    "        if data.iloc[i].values[2]==0:\n",
    "            data.loc[Date,'DepartureFlight'] = int((data.iloc[i-1]['DepartureFlight']+data.iloc[i+1]['DepartureFlight'])/2)\n",
    "    if not is_startFromFirstCaseDay:   \n",
    "        return data.loc[dateRange[0]: dateRange[1]]\n",
    "    else:\n",
    "        return data.loc[FirstCaseDate: dateRange[1]]\n"
   ]
  },
  {
   "cell_type": "code",
   "execution_count": 173,
   "metadata": {},
   "outputs": [],
   "source": [
    "# "
   ]
  },
  {
   "cell_type": "code",
   "execution_count": null,
   "metadata": {},
   "outputs": [],
   "source": []
  },
  {
   "cell_type": "markdown",
   "metadata": {},
   "source": [
    "## LSTM model"
   ]
  },
  {
   "cell_type": "code",
   "execution_count": 10,
   "metadata": {},
   "outputs": [],
   "source": [
    "def root_mean_squared_error(y_true, y_pred):\n",
    "    return K.sqrt(K.mean(K.square(K.log(y_pred) - K.log(y_true)), axis=-1)) \n"
   ]
  },
  {
   "cell_type": "code",
   "execution_count": 220,
   "metadata": {},
   "outputs": [],
   "source": [
    "def aLSTM(time_step = 6, nfeatures=3):\n",
    "    inputs = Input(shape=(time_step,nfeatures))\n",
    "    lstm1 = LSTM(128, return_sequences = True, recurrent_dropout=0.5)(inputs)\n",
    "    \n",
    "    # Confiromed cases\n",
    "    lstmC = LSTM(64)(lstm1)\n",
    "    denseC1 = Dense(32)(lstmC)\n",
    "    dropC1 = Dropout(0.5)(denseC1)\n",
    "    denseC2 = Dense(2, activation='relu')(dropC1)\n",
    "\n",
    "    model = Model(inputs=inputs, outputs=denseC2)\n",
    "    model.compile(loss=MeanSquaredLogarithmicError(), optimizer='adam')\n",
    "    model.summary()\n",
    "    return model\n",
    "    "
   ]
  },
  {
   "cell_type": "markdown",
   "metadata": {},
   "source": [
    "## Training "
   ]
  },
  {
   "cell_type": "code",
   "execution_count": 195,
   "metadata": {},
   "outputs": [],
   "source": [
    "data_test = pd.read_csv(rootPath+testFileName)\n",
    "data_all = pd.read_csv(rootPath+trainWithFlightFileName)\n",
    "data_all.Province_State.fillna(\"None\", inplace=True)\n",
    "dayList =datelist ('20200122','20200413')"
   ]
  },
  {
   "cell_type": "code",
   "execution_count": 210,
   "metadata": {},
   "outputs": [
    {
     "data": {
      "application/vnd.jupyter.widget-view+json": {
       "model_id": "dcdc4898c94b439e9c4338eff07d75ee",
       "version_major": 2,
       "version_minor": 0
      },
      "text/plain": [
       "HBox(children=(FloatProgress(value=0.0, description='Complete zero-value in flight data', max=83.0, style=Prog…"
      ]
     },
     "metadata": {},
     "output_type": "display_data"
    },
    {
     "name": "stdout",
     "output_type": "stream",
     "text": [
      "\n"
     ]
    },
    {
     "data": {
      "application/vnd.jupyter.widget-view+json": {
       "model_id": "5a5fb6f096914c8fac7af6794660523f",
       "version_major": 2,
       "version_minor": 0
      },
      "text/plain": [
       "HBox(children=(FloatProgress(value=0.0, description='Complete zero-value in data', max=83.0, style=ProgressSty…"
      ]
     },
     "metadata": {},
     "output_type": "display_data"
    },
    {
     "name": "stdout",
     "output_type": "stream",
     "text": [
      "For  US The first case during the period just has been found 2020-03-10\n",
      "\n"
     ]
    }
   ],
   "source": [
    "split = 0.8\n",
    "save_dir = \"saved_models\"\n",
    "save_fname = os.path.join(save_dir, 'COVID19_LSTM.h5')\n",
    "\n",
    "country = 'US'\n",
    "data = loadDataByCountry(Country = country, data_all=data_all, is_startFromFirstCaseDay=True)\n",
    "\n",
    "# Only consider confiromed cases\n",
    "data_single = data.values[:,0]\n",
    "\n",
    "# Consider confiromed cases and Fatalities\n",
    "data_CandF = data.values[:,0:2]\n",
    "# Consider all features\n",
    "data_multi_features = data.values\n",
    "\n",
    "scaled_train1, scaled_val1, sc1 = MaxMinNormalization(data)\n",
    "scaled_train2, scaled_val2, sc2 = MaxMinNormalization(data_CandF)\n",
    "scaled_train3, scaled_val3, sc3 = MaxMinNormalization(data_multi_features)"
   ]
  },
  {
   "cell_type": "code",
   "execution_count": 197,
   "metadata": {},
   "outputs": [],
   "source": [
    "epochs = 250\n",
    "batch_size = 8\n",
    "save_fname = os.path.join(save_dir, 'COVID19_LSTM.h5')"
   ]
  },
  {
   "cell_type": "code",
   "execution_count": 221,
   "metadata": {
    "pycharm": {
     "name": "#%%\n"
    }
   },
   "outputs": [
    {
     "name": "stdout",
     "output_type": "stream",
     "text": [
      "Model: \"model_72\"\n",
      "_________________________________________________________________\n",
      "Layer (type)                 Output Shape              Param #   \n",
      "=================================================================\n",
      "input_72 (InputLayer)        (None, 6, 3)              0         \n",
      "_________________________________________________________________\n",
      "lstm_143 (LSTM)              (None, 6, 128)            67584     \n",
      "_________________________________________________________________\n",
      "lstm_144 (LSTM)              (None, 64)                49408     \n",
      "_________________________________________________________________\n",
      "dense_143 (Dense)            (None, 32)                2080      \n",
      "_________________________________________________________________\n",
      "dropout_72 (Dropout)         (None, 32)                0         \n",
      "_________________________________________________________________\n",
      "dense_144 (Dense)            (None, 2)                 66        \n",
      "=================================================================\n",
      "Total params: 119,138\n",
      "Trainable params: 119,138\n",
      "Non-trainable params: 0\n",
      "_________________________________________________________________\n",
      "[Model] Training Started\n",
      "[Model] 250 epochs, 8 batch size\n",
      "[Model] Training Completed. Model saved as saved_models\\COVID19_LSTM.h5\n"
     ]
    },
    {
     "data": {
      "image/png": "[encoded data removed]",
      "text/plain": [
       "<Figure size 432x288 with 1 Axes>"
      ]
     },
     "metadata": {
      "needs_background": "light"
     },
     "output_type": "display_data"
    },
    {
     "name": "stdout",
     "output_type": "stream",
     "text": [
      "22 22 22\n"
     ]
    },
    {
     "data": {
      "image/png": "[encoded data removed]",
      "text/plain": [
       "<Figure size 1224x504 with 2 Axes>"
      ]
     },
     "metadata": {
      "needs_background": "light"
     },
     "output_type": "display_data"
    }
   ],
   "source": [
    "nfeatures = data.shape[1]\n",
    "time_step = 6\n",
    "# Data generator\n",
    "train_generator = TimeseriesGenerator(scaled_train3,scaled_train2, length = time_step, batch_size=1)\n",
    "validation_gen = TimeseriesGenerator(scaled_val3,scaled_val2, length=time_step, batch_size=1)\n",
    "\n",
    "model = aLSTM(time_step, nfeatures=nfeatures)\n",
    "print('[Model] Training Started')\n",
    "print('[Model] %s epochs, %s batch size' % (epochs, batch_size))\n",
    "\n",
    "# model.load_weights(save_fname)\n",
    "callbacks = [\n",
    "    EarlyStopping(monitor='val_loss', patience=50),\n",
    "    ModelCheckpoint(filepath=save_fname, monitor='val_loss', save_best_only=True),\n",
    "#     TensorBoard(log_dir='./logs')\n",
    "]\n",
    "history = model.fit_generator(train_generator, \n",
    "                    validation_data=validation_gen,\n",
    "                    callbacks=callbacks,steps_per_epoch=1,epochs=epochs,verbose=0)\n",
    "model.save(save_fname)\n",
    "print('[Model] Training Completed. Model saved as %s' % save_fname)\n",
    "printFigure(history)\n",
    "# Performance in train data\n",
    "Confirmed_train, Fatalities_train = plotTrainFigure(model, train_generator, data, sc2, time_step, country=country)"
   ]
  }
 ],
 "metadata": {
  "kernelspec": {
   "display_name": "Python 3",
   "language": "python",
   "name": "python3"
  },
  "language_info": {
   "codemirror_mode": {
    "name": "ipython",
    "version": 3
   },
   "file_extension": ".py",
   "mimetype": "text/x-python",
   "name": "python",
   "nbconvert_exporter": "python",
   "pygments_lexer": "ipython3",
   "version": "3.7.6"
  }
 },
 "nbformat": 4,
 "nbformat_minor": 4
}