{
 "cells": [
  {
   "cell_type": "code",
   "execution_count": 1,
   "metadata": {},
   "outputs": [
    {
     "name": "stderr",
     "output_type": "stream",
     "text": [
      "Using TensorFlow backend.\n"
     ]
    }
   ],
   "source": [
    "import numpy as np \n",
    "import pandas as pd \n",
    "import matplotlib.pyplot as plt\n",
    "import seaborn as sns\n",
    "from sklearn import preprocessing\n",
    "import time\n",
    "from datetime import datetime\n",
    "from tqdm.auto import trange, tqdm\n",
    "import os\n",
    "import math\n",
    "import datetime as dt\n",
    "from numpy import newaxis\n",
    "from keras.layers import Dense, Activation, Dropout, LSTM, GRU, SimpleRNN, BatchNormalization\n",
    "from keras.models import Sequential, load_model, Model\n",
    "from keras.callbacks import EarlyStopping, ModelCheckpoint, TensorBoard\n",
    "import matplotlib.pyplot as plt\n",
    "from keras.optimizers import SGD,Adam\n",
    "from sklearn.preprocessing import MinMaxScaler\n",
    "from keras.preprocessing.sequence import TimeseriesGenerator\n",
    "from keras import backend as K\n",
    "from keras.losses import MeanSquaredLogarithmicError\n",
    "from keras import Input"
   ]
  },
  {
   "cell_type": "code",
   "execution_count": 2,
   "metadata": {},
   "outputs": [],
   "source": [
    "def plotTrainFigure(model, train_generator, dataframe, sc2, time_step=6, country='China'):\n",
    "    # Confirmed cases\n",
    "    pre_confirmed = []\n",
    "    truth_confirmed = []\n",
    "    # Fatalities\n",
    "    pre_fatalities = []\n",
    "    truth_fatalities = []\n",
    "    for i in range(len(train_generator)):\n",
    "        testx, testy = train_generator[i]\n",
    "        \n",
    "        pre = model.predict(testx)\n",
    "        \n",
    "        confirmed_pre = pre[0][0]\n",
    "        confirmed_truth = testy[0][0]\n",
    "        fatalities_pre = pre[0][1]\n",
    "        fatalities_truth = testy[0][1]\n",
    "        \n",
    "        # The following is valid when the sc2 is 0-1 Scaler\n",
    "#         t1 = confirmed_pre*dataframe.values[:,0].max()\n",
    "#         t2 = confirmed_truth*dataframe.values[:,0].max()\n",
    "#         t3 = fatalities_pre*dataframe.values[:,1].max()\n",
    "#         t4 = fatalities_truth*dataframe.values[:,1].max()\n",
    "        \n",
    "        t1, t3 = tuple(sc2.inverse_transform([[confirmed_pre,fatalities_pre]])[0])\n",
    "        t2, t4 = tuple(sc2.inverse_transform([[confirmed_truth,fatalities_truth]])[0])\n",
    "        \n",
    "#         t1, t3 = tuple([confirmed_pre,fatalities_pre])\n",
    "#         t2, t4 = tuple([confirmed_truth,fatalities_truth])\n",
    "        \n",
    "        pre_confirmed.append(t1)\n",
    "        truth_confirmed.append(t2)\n",
    "        pre_fatalities.append(t3)\n",
    "        truth_fatalities.append(t4)\n",
    "    date = dataframe[time_step:int(len(data) * split)].index.values\n",
    "#     date = dataframe[int(len(data) * split):-6].index.values\n",
    "\n",
    "    print(len(date), len(pre_confirmed), len(truth_confirmed))\n",
    "    Confirmed = pd.DataFrame({'Date':date,'Prediction':pre_confirmed,'Real cases':truth_confirmed})\n",
    "    Confirmed.set_index(['Date'], inplace=True)\n",
    "    \n",
    "    Fatalities = pd.DataFrame({'Date':date,'Prediction':pre_fatalities,'Real cases':truth_fatalities})\n",
    "    Fatalities.set_index(['Date'], inplace=True)\n",
    "    \n",
    "    Confirmed['Prediction'] = Confirmed['Prediction'].astype(int)\n",
    "    Confirmed['Real cases'] = Confirmed['Real cases'].astype(int)\n",
    "    Fatalities['Prediction'] = Fatalities['Prediction'].astype(int)\n",
    "    Fatalities['Real cases'] = Fatalities['Real cases'].astype(int)\n",
    "    \n",
    "    fig, (ax1,ax2) = plt.subplots(1, 2, figsize=(17,7))\n",
    "    Confirmed.plot(ax=ax1)\n",
    "    ax1.set_title(country+\" confirmed cases \", size=13)\n",
    "    ax1.set_ylabel(\"Number of cases\", size=13)\n",
    "    ax1.set_xlabel(\"Date\", size=13)\n",
    "    \n",
    "    Fatalities.plot(ax=ax2)\n",
    "    ax2.set_title(country+\" Fatalities \", size=13)\n",
    "    ax2.set_ylabel(\"Number of cases\", size=13)\n",
    "    ax2.set_xlabel(\"Date\", size=13)\n",
    "    \n",
    "    return Confirmed.copy(), Fatalities.copy()"
   ]
  },
  {
   "cell_type": "code",
   "execution_count": 4,
   "metadata": {},
   "outputs": [],
   "source": [
    "def datelist(beginDate, endDate):\n",
    "    # beginDate, endDate are something like ‘20160601’\n",
    "    date_l=[datetime.strftime(x,'%Y-%m-%d') for x in list(pd.date_range(start=beginDate, end=endDate))]\n",
    "    return date_l"
   ]
  },
  {
   "cell_type": "code",
   "execution_count": 5,
   "metadata": {},
   "outputs": [],
   "source": [
    "def printFigure(history):\n",
    "    plt.plot(history.history['loss'])\n",
    "    plt.plot(history.history['val_loss'])\n",
    "    plt.title('Loss over epochs')\n",
    "    plt.ylabel('Loss')\n",
    "    plt.xlabel('Epoch')\n",
    "    plt.legend(['Train', 'Validation'], loc='best')\n",
    "    plt.show()"
   ]
  },
  {
   "cell_type": "code",
   "execution_count": 30,
   "metadata": {},
   "outputs": [],
   "source": [
    "def MaxMinNormalization(data, feature_range=(0,1), split=0.8):\n",
    "    sc = MinMaxScaler(feature_range=feature_range)\n",
    "    scaled_data = sc.fit_transform(data.reshape(-1, 1)) if len(data.shape)==1 else sc.fit_transform(data)\n",
    "#     scaled_data = data\n",
    "    scaled_train = scaled_data[:int(len(scaled_data) * split)]\n",
    "    scaled_val = scaled_data[int(len(scaled_data) * split):]\n",
    "    return scaled_train, scaled_val, sc"
   ]
  },
  {
   "cell_type": "code",
   "execution_count": 48,
   "metadata": {},
   "outputs": [],
   "source": [
    "def MaxMinNormalization2(data):\n",
    "    sc = MinMaxScaler()\n",
    "    scaled_data = sc.fit_transform(data.reshape(-1, 1)) if len(data.shape)==1 else sc.fit_transform(data)\n",
    "    return scaled_data, sc"
   ]
  },
  {
   "cell_type": "markdown",
   "metadata": {},
   "source": [
    "## Import data"
   ]
  },
  {
   "cell_type": "code",
   "execution_count": 7,
   "metadata": {},
   "outputs": [],
   "source": [
    "rootPath = 'D:/Dropbox/Project/code/Python/COVID19-Global-Forecasting/data/'\n",
    "trainFileName = 'train.csv'\n",
    "testFileName = 'test.csv'\n",
    "trainWithFlightFileName = 'train_flight.csv'"
   ]
  },
  {
   "cell_type": "markdown",
   "metadata": {},
   "source": [
    "### Load file"
   ]
  },
  {
   "cell_type": "code",
   "execution_count": 8,
   "metadata": {},
   "outputs": [],
   "source": [
    "def loadDataByCountry(Country = 'China', data_all=None, dateRange= ('2020-01-22','2020-04-13'), is_startFromFirstCaseDay=False):\n",
    "    confirmed_total_date = data_all[data_all['Country_Region']==Country].groupby(['Date']).agg({'ConfirmedCases':['sum']})\n",
    "    flight_total_date = data_all[data_all['Country_Region']==Country].groupby(['Date']).agg({'DepartureFlight':['mean']})\n",
    "    data = data_all[data_all['Country_Region']==Country].groupby(['Date']).agg({'ConfirmedCases':['sum'],'Fatalities':['sum'],'DepartureFlight':['mean']})\n",
    "    day = flight_total_date.shape[0]\n",
    "    for i in tqdm(range(day), desc='Complete zero-value in flight data'):\n",
    "        if flight_total_date.iloc[i].values[0]==0:\n",
    "            flight_total_date.iloc[i] = int((flight_total_date.iloc[i-1]+flight_total_date.iloc[i+1])/2)\n",
    "    \n",
    "    is_FirstCase = False\n",
    "    FirstCaseDate = dateRange[0]\n",
    "    for i in tqdm(range(day), desc='Complete zero-value in data'):\n",
    "        Date = data.iloc[i].name\n",
    "        if not is_FirstCase:\n",
    "            if data.iloc[i].values[1]!=0:\n",
    "                print('For ', country, 'The first case during the period just has been found', Date)\n",
    "                FirstCaseDate = Date\n",
    "                is_FirstCase = True\n",
    "            \n",
    "        if data.iloc[i].values[2]==0:\n",
    "            data.loc[Date,'DepartureFlight'] = int((data.iloc[i-1]['DepartureFlight']+data.iloc[i+1]['DepartureFlight'])/2)\n",
    "    if not is_startFromFirstCaseDay:   \n",
    "        return data.loc[dateRange[0]: dateRange[1]]\n",
    "    else:\n",
    "        return data.loc[FirstCaseDate: dateRange[1]]\n"
   ]
  },
  {
   "cell_type": "code",
   "execution_count": 9,
   "metadata": {},
   "outputs": [],
   "source": [
    "# "
   ]
  },
  {
   "cell_type": "code",
   "execution_count": null,
   "metadata": {},
   "outputs": [],
   "source": []
  },
  {
   "cell_type": "markdown",
   "metadata": {},
   "source": [
    "## LSTM model"
   ]
  },
  {
   "cell_type": "code",
   "execution_count": 10,
   "metadata": {},
   "outputs": [],
   "source": [
    "def root_mean_squared_error(y_true, y_pred):\n",
    "    return K.sqrt(K.mean(K.square(K.log(y_pred) - K.log(y_true)), axis=-1)) "
   ]
  },
  {
   "cell_type": "code",
   "execution_count": 11,
   "metadata": {},
   "outputs": [],
   "source": [
    "# def simpleLSTM(time_step=6, nfeatures=3):\n",
    "#     model = Sequential()\n",
    "#     model.add(GRU(512, activation=\"tanh\", input_shape=(time_step, nfeatures), return_sequences=True))\n",
    "#     model.add(Dropout(0.25))\n",
    "# #     model.add(LSTM(256, activation=\"tanh\", return_sequences=True))\n",
    "#     model.add(GRU(64, activation=\"tanh\", return_sequences=False))\n",
    "#     model.add(Dropout(0.25))\n",
    "#     model.add(Dense(2, activation='linear'))\n",
    "    \n",
    "#     model.compile(loss=MeanSquaredLogarithmicError(), optimizer='adam')\n",
    "#     model.summary()\n",
    "#     return model"
   ]
  },
  {
   "cell_type": "code",
   "execution_count": 44,
   "metadata": {},
   "outputs": [],
   "source": [
    "def aLSTM(time_step = 6, nfeatures=3):\n",
    "    inputs = Input(shape=(time_step,nfeatures))\n",
    "    lstm1 = LSTM(128, return_sequences = True, recurrent_dropout=0.5)(inputs)\n",
    "    \n",
    "    # Confiromed cases\n",
    "    lstmC = LSTM(64)(lstm1)\n",
    "    denseC1 = Dense(32, activation='relu')(lstmC)\n",
    "    dropC1 = Dropout(0.5)(denseC1)\n",
    "    denseC2 = Dense(2, activation='relu')(dropC1)\n",
    "    \n",
    "    # Fatalities\n",
    "#     lstmF = LSTM(32)(lstm1)\n",
    "#     denseF1 = Dense(128)(lstmF)\n",
    "#     dropF1 = Dropout(0.5)(denseF1)\n",
    "#     denseF2 = Dense(1, activation='relu')(dropF1)\n",
    "    \n",
    "    model = Model(inputs=inputs, outputs=denseC2)\n",
    "#     \n",
    "    model.compile(loss=MeanSquaredLogarithmicError(), optimizer='adam', metrics = ['accuracy'])\n",
    "    model.summary()\n",
    "    return model\n",
    "    "
   ]
  },
  {
   "cell_type": "markdown",
   "metadata": {},
   "source": [
    "## Training "
   ]
  },
  {
   "cell_type": "code",
   "execution_count": 13,
   "metadata": {},
   "outputs": [],
   "source": [
    "data_test = pd.read_csv(rootPath+testFileName)\n",
    "data_all = pd.read_csv(rootPath+trainWithFlightFileName)\n",
    "data_all.Province_State.fillna(\"None\", inplace=True)\n",
    "dayList =datelist ('20200122','20200413')"
   ]
  },
  {
   "cell_type": "code",
   "execution_count": 144,
   "metadata": {},
   "outputs": [
    {
     "data": {
      "application/vnd.jupyter.widget-view+json": {
       "model_id": "22891b30891e447d824c89dac3e3f767",
       "version_major": 2,
       "version_minor": 0
      },
      "text/plain": [
       "HBox(children=(FloatProgress(value=0.0, description='Complete zero-value in flight data', max=83.0, style=Prog…"
      ]
     },
     "metadata": {},
     "output_type": "display_data"
    },
    {
     "name": "stdout",
     "output_type": "stream",
     "text": [
      "\n"
     ]
    },
    {
     "data": {
      "application/vnd.jupyter.widget-view+json": {
       "model_id": "2fddb9fdb4854602856e2f05a6ec1c0c",
       "version_major": 2,
       "version_minor": 0
      },
      "text/plain": [
       "HBox(children=(FloatProgress(value=0.0, description='Complete zero-value in data', max=83.0, style=ProgressSty…"
      ]
     },
     "metadata": {},
     "output_type": "display_data"
    },
    {
     "name": "stdout",
     "output_type": "stream",
     "text": [
      "For  US The first case during the period just has been found 2020-03-10\n",
      "\n"
     ]
    }
   ],
   "source": [
    "split = 0.8\n",
    "save_dir = \"saved_models\"\n",
    "save_fname = os.path.join(save_dir, 'COVID19_LSTM.h5')\n",
    "\n",
    "country = 'US'\n",
    "data = loadDataByCountry(Country = country, data_all=data_all, is_startFromFirstCaseDay=True)\n",
    "\n",
    "# Only consider confiromed cases\n",
    "data_single = data.values[:,0]\n",
    "\n",
    "# Consider confiromed cases and Fatalities\n",
    "data_CandF = data.values[:,0:2]\n",
    "# Consider all features\n",
    "data_multi_features = data.values\n",
    "\n",
    "scaled_train1, scaled_val1, sc1 = MaxMinNormalization(data = data, split=0.8)\n",
    "scaled_train2, scaled_val2, sc2 = MaxMinNormalization(data = data_CandF, split=0.8)\n",
    "scaled_train3, scaled_val3, sc3 = MaxMinNormalization(data = data_multi_features, split=0.8)"
   ]
  },
  {
   "cell_type": "code",
   "execution_count": 145,
   "metadata": {},
   "outputs": [],
   "source": [
    "scaled_data_a, sca = MaxMinNormalization2(data = data)\n",
    "scaled_data_b,scb = MaxMinNormalization2(data = data_CandF)\n",
    "scaled_data_c, scc = MaxMinNormalization2(data = data_multi_features)"
   ]
  },
  {
   "cell_type": "code",
   "execution_count": 146,
   "metadata": {},
   "outputs": [],
   "source": [
    "data_gen = TimeseriesGenerator(scaled_data_c,scaled_data_b, length = time_step, batch_size=1)"
   ]
  },
  {
   "cell_type": "code",
   "execution_count": 147,
   "metadata": {},
   "outputs": [],
   "source": [
    "train_generator = TimeseriesGenerator(scaled_train3,scaled_train2, length = time_step, batch_size=1)\n",
    "validation_gen = TimeseriesGenerator(scaled_val3,scaled_val2, length=time_step, batch_size=1)"
   ]
  },
  {
   "cell_type": "code",
   "execution_count": 148,
   "metadata": {},
   "outputs": [],
   "source": [
    "# data_gen[:int(len(data_gen) * split)]\n",
    "X_train = []\n",
    "Y_train = []\n",
    "X_val = []\n",
    "Y_val = []\n",
    "num_train = int(split*len(data_gen))\n",
    "for i in range(len(data_gen)):\n",
    "    X,Y= data_gen[i]\n",
    "    if i<= num_train:\n",
    "        X_train.append(X[0])\n",
    "        Y_train.append(Y[0])\n",
    "    else:\n",
    "        X_val.append(X[0])\n",
    "        Y_val.append(Y[0])\n",
    "X_train = np.array(X_train)\n",
    "Y_train = np.array(Y_train)\n",
    "X_val = np.array(X_val)\n",
    "Y_val = np.array(Y_val)"
   ]
  },
  {
   "cell_type": "code",
   "execution_count": null,
   "metadata": {},
   "outputs": [],
   "source": []
  },
  {
   "cell_type": "code",
   "execution_count": 149,
   "metadata": {},
   "outputs": [],
   "source": [
    "epochs = 250\n",
    "batch_size = 8\n",
    "save_fname = os.path.join(save_dir, 'COVID19_LSTM.h5')"
   ]
  },
  {
   "cell_type": "code",
   "execution_count": 150,
   "metadata": {},
   "outputs": [
    {
     "name": "stdout",
     "output_type": "stream",
     "text": [
      "Model: \"model_18\"\n",
      "_________________________________________________________________\n",
      "Layer (type)                 Output Shape              Param #   \n",
      "=================================================================\n",
      "input_18 (InputLayer)        (None, 6, 3)              0         \n",
      "_________________________________________________________________\n",
      "lstm_35 (LSTM)               (None, 6, 128)            67584     \n",
      "_________________________________________________________________\n",
      "lstm_36 (LSTM)               (None, 64)                49408     \n",
      "_________________________________________________________________\n",
      "dense_35 (Dense)             (None, 32)                2080      \n",
      "_________________________________________________________________\n",
      "dropout_18 (Dropout)         (None, 32)                0         \n",
      "_________________________________________________________________\n",
      "dense_36 (Dense)             (None, 2)                 66        \n",
      "=================================================================\n",
      "Total params: 119,138\n",
      "Trainable params: 119,138\n",
      "Non-trainable params: 0\n",
      "_________________________________________________________________\n",
      "[Model] Training Started\n",
      "[Model] 250 epochs, 8 batch size\n",
      "Train on 24 samples, validate on 5 samples\n",
      "Epoch 1/250\n",
      "1/1 [==============================] - 1s 615ms/step - loss: 0.0471 - accuracy: 0.8333 - val_loss: 0.3105 - val_accuracy: 0.2000\n",
      "Epoch 2/250\n",
      "1/1 [==============================] - 0s 13ms/step - loss: 0.0407 - accuracy: 1.0000 - val_loss: 0.2774 - val_accuracy: 0.2000\n",
      "Epoch 3/250\n",
      "1/1 [==============================] - 0s 15ms/step - loss: 0.0366 - accuracy: 0.8750 - val_loss: 0.2469 - val_accuracy: 0.2000\n",
      "Epoch 4/250\n",
      "1/1 [==============================] - 0s 16ms/step - loss: 0.0335 - accuracy: 0.9583 - val_loss: 0.2182 - val_accuracy: 0.2000\n",
      "Epoch 5/250\n",
      "1/1 [==============================] - 0s 14ms/step - loss: 0.0273 - accuracy: 1.0000 - val_loss: 0.1893 - val_accuracy: 0.2000\n",
      "Epoch 6/250\n",
      "1/1 [==============================] - 0s 14ms/step - loss: 0.0275 - accuracy: 0.9167 - val_loss: 0.1601 - val_accuracy: 0.2000\n",
      "Epoch 7/250\n",
      "1/1 [==============================] - 0s 14ms/step - loss: 0.0220 - accuracy: 1.0000 - val_loss: 0.1321 - val_accuracy: 0.2000\n",
      "Epoch 8/250\n",
      "1/1 [==============================] - 0s 16ms/step - loss: 0.0176 - accuracy: 0.8750 - val_loss: 0.1060 - val_accuracy: 0.2000\n",
      "Epoch 9/250\n",
      "1/1 [==============================] - 0s 16ms/step - loss: 0.0200 - accuracy: 0.8750 - val_loss: 0.0827 - val_accuracy: 0.2000\n",
      "Epoch 10/250\n",
      "1/1 [==============================] - 0s 13ms/step - loss: 0.0197 - accuracy: 0.9167 - val_loss: 0.0636 - val_accuracy: 0.2000\n",
      "Epoch 11/250\n",
      "1/1 [==============================] - 0s 15ms/step - loss: 0.0169 - accuracy: 0.8750 - val_loss: 0.0484 - val_accuracy: 0.2000\n",
      "Epoch 12/250\n",
      "1/1 [==============================] - 0s 15ms/step - loss: 0.0116 - accuracy: 0.7083 - val_loss: 0.0352 - val_accuracy: 0.2000\n",
      "Epoch 13/250\n",
      "1/1 [==============================] - 0s 15ms/step - loss: 0.0082 - accuracy: 0.6250 - val_loss: 0.0245 - val_accuracy: 0.2000\n",
      "Epoch 14/250\n",
      "1/1 [==============================] - 0s 16ms/step - loss: 0.0066 - accuracy: 0.5833 - val_loss: 0.0168 - val_accuracy: 0.2000\n",
      "Epoch 15/250\n",
      "1/1 [==============================] - 0s 16ms/step - loss: 0.0041 - accuracy: 0.3333 - val_loss: 0.0124 - val_accuracy: 0.2000\n",
      "Epoch 16/250\n",
      "1/1 [==============================] - 0s 15ms/step - loss: 0.0078 - accuracy: 0.5000 - val_loss: 0.0106 - val_accuracy: 0.2000\n",
      "Epoch 17/250\n",
      "1/1 [==============================] - 0s 16ms/step - loss: 0.0048 - accuracy: 0.7083 - val_loss: 0.0099 - val_accuracy: 0.2000\n",
      "Epoch 18/250\n",
      "1/1 [==============================] - 0s 15ms/step - loss: 0.0052 - accuracy: 0.7917 - val_loss: 0.0093 - val_accuracy: 0.2000\n",
      "Epoch 19/250\n",
      "1/1 [==============================] - 0s 14ms/step - loss: 0.0065 - accuracy: 0.7500 - val_loss: 0.0085 - val_accuracy: 0.2000\n",
      "Epoch 20/250\n",
      "1/1 [==============================] - 0s 18ms/step - loss: 0.0107 - accuracy: 0.7083 - val_loss: 0.0080 - val_accuracy: 0.2000\n",
      "Epoch 21/250\n",
      "1/1 [==============================] - 0s 16ms/step - loss: 0.0046 - accuracy: 0.8750 - val_loss: 0.0074 - val_accuracy: 0.2000\n",
      "Epoch 22/250\n",
      "1/1 [==============================] - 0s 15ms/step - loss: 0.0070 - accuracy: 0.9583 - val_loss: 0.0064 - val_accuracy: 0.2000\n",
      "Epoch 23/250\n",
      "1/1 [==============================] - 0s 14ms/step - loss: 0.0079 - accuracy: 0.9167 - val_loss: 0.0048 - val_accuracy: 0.2000\n",
      "Epoch 24/250\n",
      "1/1 [==============================] - 0s 15ms/step - loss: 0.0043 - accuracy: 0.7917 - val_loss: 0.0039 - val_accuracy: 0.2000\n",
      "Epoch 25/250\n",
      "1/1 [==============================] - 0s 15ms/step - loss: 0.0038 - accuracy: 0.7917 - val_loss: 0.0038 - val_accuracy: 0.2000\n",
      "Epoch 26/250\n",
      "1/1 [==============================] - 0s 16ms/step - loss: 0.0043 - accuracy: 0.8333 - val_loss: 0.0040 - val_accuracy: 0.2000\n",
      "Epoch 27/250\n",
      "1/1 [==============================] - 0s 15ms/step - loss: 0.0035 - accuracy: 0.8750 - val_loss: 0.0043 - val_accuracy: 0.2000\n",
      "Epoch 28/250\n",
      "1/1 [==============================] - 0s 16ms/step - loss: 0.0084 - accuracy: 0.9583 - val_loss: 0.0044 - val_accuracy: 0.2000\n",
      "Epoch 29/250\n",
      "1/1 [==============================] - 0s 15ms/step - loss: 0.0069 - accuracy: 0.9167 - val_loss: 0.0044 - val_accuracy: 0.2000\n",
      "Epoch 30/250\n",
      "1/1 [==============================] - 0s 16ms/step - loss: 0.0031 - accuracy: 1.0000 - val_loss: 0.0041 - val_accuracy: 0.2000\n",
      "Epoch 31/250\n",
      "1/1 [==============================] - 0s 15ms/step - loss: 0.0037 - accuracy: 0.9167 - val_loss: 0.0038 - val_accuracy: 0.2000\n",
      "Epoch 32/250\n",
      "1/1 [==============================] - 0s 16ms/step - loss: 0.0040 - accuracy: 0.9583 - val_loss: 0.0035 - val_accuracy: 0.2000\n",
      "Epoch 33/250\n",
      "1/1 [==============================] - 0s 17ms/step - loss: 0.0079 - accuracy: 1.0000 - val_loss: 0.0030 - val_accuracy: 0.2000\n",
      "Epoch 34/250\n",
      "1/1 [==============================] - 0s 15ms/step - loss: 0.0031 - accuracy: 0.9583 - val_loss: 0.0026 - val_accuracy: 0.2000\n",
      "Epoch 35/250\n",
      "1/1 [==============================] - 0s 19ms/step - loss: 0.0058 - accuracy: 0.7917 - val_loss: 0.0022 - val_accuracy: 0.2000\n",
      "Epoch 36/250\n",
      "1/1 [==============================] - 0s 18ms/step - loss: 0.0027 - accuracy: 0.8333 - val_loss: 0.0020 - val_accuracy: 0.2000\n",
      "Epoch 37/250\n",
      "1/1 [==============================] - 0s 14ms/step - loss: 0.0051 - accuracy: 0.9167 - val_loss: 0.0017 - val_accuracy: 0.2000\n",
      "Epoch 38/250\n",
      "1/1 [==============================] - 0s 14ms/step - loss: 0.0041 - accuracy: 0.9583 - val_loss: 0.0014 - val_accuracy: 0.2000\n",
      "Epoch 39/250\n",
      "1/1 [==============================] - 0s 16ms/step - loss: 0.0040 - accuracy: 0.9167 - val_loss: 0.0014 - val_accuracy: 0.2000\n",
      "Epoch 40/250\n",
      "1/1 [==============================] - 0s 15ms/step - loss: 0.0038 - accuracy: 0.8750 - val_loss: 0.0018 - val_accuracy: 0.2000\n",
      "Epoch 41/250\n",
      "1/1 [==============================] - 0s 14ms/step - loss: 0.0059 - accuracy: 0.9167 - val_loss: 0.0024 - val_accuracy: 0.0000e+00\n",
      "Epoch 42/250\n",
      "1/1 [==============================] - 0s 15ms/step - loss: 0.0031 - accuracy: 0.8750 - val_loss: 0.0032 - val_accuracy: 0.0000e+00\n",
      "Epoch 43/250\n",
      "1/1 [==============================] - 0s 15ms/step - loss: 0.0039 - accuracy: 0.8750 - val_loss: 0.0042 - val_accuracy: 0.0000e+00\n",
      "Epoch 44/250\n",
      "1/1 [==============================] - 0s 16ms/step - loss: 0.0048 - accuracy: 0.8750 - val_loss: 0.0046 - val_accuracy: 0.2000\n",
      "Epoch 45/250\n",
      "1/1 [==============================] - 0s 16ms/step - loss: 0.0042 - accuracy: 0.9167 - val_loss: 0.0056 - val_accuracy: 0.2000\n",
      "Epoch 46/250\n",
      "1/1 [==============================] - 0s 15ms/step - loss: 0.0046 - accuracy: 0.7917 - val_loss: 0.0062 - val_accuracy: 0.2000\n",
      "Epoch 47/250\n",
      "1/1 [==============================] - 0s 15ms/step - loss: 0.0023 - accuracy: 1.0000 - val_loss: 0.0073 - val_accuracy: 0.2000\n",
      "Epoch 48/250\n",
      "1/1 [==============================] - 0s 16ms/step - loss: 0.0037 - accuracy: 0.9583 - val_loss: 0.0083 - val_accuracy: 0.0000e+00\n",
      "Epoch 49/250\n",
      "1/1 [==============================] - 0s 15ms/step - loss: 0.0028 - accuracy: 0.9583 - val_loss: 0.0085 - val_accuracy: 0.2000\n",
      "Epoch 50/250\n",
      "1/1 [==============================] - 0s 15ms/step - loss: 0.0025 - accuracy: 0.9583 - val_loss: 0.0081 - val_accuracy: 0.2000\n",
      "Epoch 51/250\n",
      "1/1 [==============================] - 0s 16ms/step - loss: 0.0031 - accuracy: 0.8333 - val_loss: 0.0074 - val_accuracy: 0.2000\n",
      "Epoch 52/250\n",
      "1/1 [==============================] - 0s 14ms/step - loss: 0.0027 - accuracy: 1.0000 - val_loss: 0.0062 - val_accuracy: 0.2000\n",
      "Epoch 53/250\n",
      "1/1 [==============================] - 0s 14ms/step - loss: 0.0024 - accuracy: 0.9167 - val_loss: 0.0056 - val_accuracy: 0.2000\n",
      "Epoch 54/250\n",
      "1/1 [==============================] - 0s 14ms/step - loss: 0.0066 - accuracy: 1.0000 - val_loss: 0.0043 - val_accuracy: 0.2000\n",
      "Epoch 55/250\n",
      "1/1 [==============================] - 0s 14ms/step - loss: 0.0035 - accuracy: 0.8750 - val_loss: 0.0035 - val_accuracy: 0.2000\n",
      "Epoch 56/250\n",
      "1/1 [==============================] - 0s 16ms/step - loss: 0.0047 - accuracy: 0.9167 - val_loss: 0.0028 - val_accuracy: 0.4000\n",
      "Epoch 57/250\n",
      "1/1 [==============================] - 0s 15ms/step - loss: 0.0069 - accuracy: 0.7917 - val_loss: 0.0027 - val_accuracy: 0.4000\n",
      "Epoch 58/250\n",
      "1/1 [==============================] - 0s 15ms/step - loss: 0.0030 - accuracy: 0.7917 - val_loss: 0.0028 - val_accuracy: 0.4000\n",
      "Epoch 59/250\n",
      "1/1 [==============================] - 0s 13ms/step - loss: 0.0023 - accuracy: 0.8750 - val_loss: 0.0031 - val_accuracy: 0.4000\n",
      "Epoch 60/250\n",
      "1/1 [==============================] - 0s 16ms/step - loss: 0.0031 - accuracy: 0.7917 - val_loss: 0.0042 - val_accuracy: 0.2000\n",
      "Epoch 61/250\n",
      "1/1 [==============================] - 0s 15ms/step - loss: 0.0046 - accuracy: 0.9583 - val_loss: 0.0044 - val_accuracy: 0.0000e+00\n",
      "Epoch 62/250\n",
      "1/1 [==============================] - 0s 15ms/step - loss: 0.0028 - accuracy: 0.9167 - val_loss: 0.0042 - val_accuracy: 0.2000\n",
      "Epoch 63/250\n",
      "1/1 [==============================] - 0s 14ms/step - loss: 0.0022 - accuracy: 0.8750 - val_loss: 0.0041 - val_accuracy: 0.2000\n",
      "Epoch 64/250\n",
      "1/1 [==============================] - 0s 14ms/step - loss: 0.0046 - accuracy: 0.9167 - val_loss: 0.0038 - val_accuracy: 0.2000\n",
      "Epoch 65/250\n",
      "1/1 [==============================] - 0s 15ms/step - loss: 0.0059 - accuracy: 0.9167 - val_loss: 0.0032 - val_accuracy: 0.2000\n",
      "Epoch 66/250\n",
      "1/1 [==============================] - 0s 16ms/step - loss: 0.0072 - accuracy: 0.9167 - val_loss: 0.0026 - val_accuracy: 0.2000\n",
      "Epoch 67/250\n",
      "1/1 [==============================] - 0s 14ms/step - loss: 0.0016 - accuracy: 0.9167 - val_loss: 0.0024 - val_accuracy: 0.2000\n",
      "Epoch 68/250\n",
      "1/1 [==============================] - 0s 14ms/step - loss: 0.0026 - accuracy: 0.8750 - val_loss: 0.0022 - val_accuracy: 0.2000\n",
      "Epoch 69/250\n",
      "1/1 [==============================] - 0s 14ms/step - loss: 0.0041 - accuracy: 0.9583 - val_loss: 0.0021 - val_accuracy: 0.2000\n",
      "Epoch 70/250\n",
      "1/1 [==============================] - 0s 16ms/step - loss: 0.0017 - accuracy: 0.9583 - val_loss: 0.0020 - val_accuracy: 0.2000\n",
      "Epoch 71/250\n",
      "1/1 [==============================] - 0s 14ms/step - loss: 0.0051 - accuracy: 0.9583 - val_loss: 0.0019 - val_accuracy: 0.2000\n",
      "Epoch 72/250\n",
      "1/1 [==============================] - 0s 14ms/step - loss: 0.0028 - accuracy: 0.9583 - val_loss: 0.0017 - val_accuracy: 0.2000\n",
      "Epoch 73/250\n",
      "1/1 [==============================] - 0s 14ms/step - loss: 0.0021 - accuracy: 0.9583 - val_loss: 0.0016 - val_accuracy: 0.2000\n",
      "Epoch 74/250\n",
      "1/1 [==============================] - 0s 14ms/step - loss: 0.0026 - accuracy: 0.9167 - val_loss: 0.0015 - val_accuracy: 0.2000\n",
      "Epoch 75/250\n",
      "1/1 [==============================] - 0s 16ms/step - loss: 0.0021 - accuracy: 0.9583 - val_loss: 0.0015 - val_accuracy: 0.2000\n",
      "Epoch 76/250\n",
      "1/1 [==============================] - 0s 16ms/step - loss: 0.0028 - accuracy: 0.8333 - val_loss: 0.0014 - val_accuracy: 0.2000\n",
      "Epoch 77/250\n",
      "1/1 [==============================] - 0s 16ms/step - loss: 0.0039 - accuracy: 0.9583 - val_loss: 0.0013 - val_accuracy: 0.2000\n",
      "Epoch 78/250\n",
      "1/1 [==============================] - 0s 17ms/step - loss: 0.0017 - accuracy: 0.8750 - val_loss: 0.0013 - val_accuracy: 0.0000e+00\n",
      "Epoch 79/250\n",
      "1/1 [==============================] - 0s 15ms/step - loss: 0.0017 - accuracy: 1.0000 - val_loss: 0.0012 - val_accuracy: 0.0000e+00\n",
      "Epoch 80/250\n",
      "1/1 [==============================] - 0s 16ms/step - loss: 0.0036 - accuracy: 0.9167 - val_loss: 0.0011 - val_accuracy: 0.2000\n",
      "Epoch 81/250\n",
      "1/1 [==============================] - 0s 16ms/step - loss: 0.0016 - accuracy: 0.9167 - val_loss: 0.0010 - val_accuracy: 0.2000\n",
      "Epoch 82/250\n",
      "1/1 [==============================] - 0s 16ms/step - loss: 0.0032 - accuracy: 0.9583 - val_loss: 8.1503e-04 - val_accuracy: 0.2000\n",
      "Epoch 83/250\n",
      "1/1 [==============================] - 0s 16ms/step - loss: 0.0031 - accuracy: 0.9167 - val_loss: 7.6437e-04 - val_accuracy: 0.2000\n",
      "Epoch 84/250\n",
      "1/1 [==============================] - 0s 16ms/step - loss: 0.0022 - accuracy: 0.8750 - val_loss: 7.5881e-04 - val_accuracy: 0.4000\n",
      "Epoch 85/250\n",
      "1/1 [==============================] - 0s 15ms/step - loss: 0.0024 - accuracy: 0.8750 - val_loss: 7.9572e-04 - val_accuracy: 0.4000\n",
      "Epoch 86/250\n",
      "1/1 [==============================] - 0s 15ms/step - loss: 0.0039 - accuracy: 0.9167 - val_loss: 0.0010 - val_accuracy: 0.2000\n",
      "Epoch 87/250\n",
      "1/1 [==============================] - 0s 16ms/step - loss: 0.0023 - accuracy: 0.8750 - val_loss: 0.0013 - val_accuracy: 0.2000\n",
      "Epoch 88/250\n",
      "1/1 [==============================] - 0s 18ms/step - loss: 0.0020 - accuracy: 0.8750 - val_loss: 0.0019 - val_accuracy: 0.0000e+00\n",
      "Epoch 89/250\n",
      "1/1 [==============================] - 0s 16ms/step - loss: 0.0056 - accuracy: 1.0000 - val_loss: 0.0022 - val_accuracy: 0.0000e+00\n",
      "Epoch 90/250\n",
      "1/1 [==============================] - 0s 15ms/step - loss: 0.0027 - accuracy: 0.8750 - val_loss: 0.0022 - val_accuracy: 0.2000\n",
      "Epoch 91/250\n",
      "1/1 [==============================] - 0s 16ms/step - loss: 0.0012 - accuracy: 1.0000 - val_loss: 0.0021 - val_accuracy: 0.2000\n",
      "Epoch 92/250\n",
      "1/1 [==============================] - 0s 15ms/step - loss: 0.0050 - accuracy: 0.9583 - val_loss: 0.0019 - val_accuracy: 0.2000\n",
      "Epoch 93/250\n",
      "1/1 [==============================] - 0s 15ms/step - loss: 0.0034 - accuracy: 1.0000 - val_loss: 0.0015 - val_accuracy: 0.2000\n",
      "Epoch 94/250\n",
      "1/1 [==============================] - 0s 17ms/step - loss: 0.0029 - accuracy: 1.0000 - val_loss: 0.0013 - val_accuracy: 0.0000e+00\n",
      "Epoch 95/250\n",
      "1/1 [==============================] - 0s 17ms/step - loss: 0.0018 - accuracy: 0.9583 - val_loss: 0.0011 - val_accuracy: 0.0000e+00\n",
      "Epoch 96/250\n",
      "1/1 [==============================] - 0s 16ms/step - loss: 0.0024 - accuracy: 0.9167 - val_loss: 9.1712e-04 - val_accuracy: 0.2000\n",
      "Epoch 97/250\n",
      "1/1 [==============================] - 0s 15ms/step - loss: 0.0029 - accuracy: 1.0000 - val_loss: 8.1421e-04 - val_accuracy: 0.2000\n",
      "Epoch 98/250\n",
      "1/1 [==============================] - 0s 19ms/step - loss: 0.0024 - accuracy: 0.9167 - val_loss: 9.4825e-04 - val_accuracy: 0.4000\n",
      "Epoch 99/250\n",
      "1/1 [==============================] - 0s 16ms/step - loss: 0.0021 - accuracy: 0.9167 - val_loss: 0.0012 - val_accuracy: 0.4000\n",
      "Epoch 100/250\n",
      "1/1 [==============================] - 0s 15ms/step - loss: 0.0045 - accuracy: 0.8750 - val_loss: 0.0011 - val_accuracy: 0.6000\n",
      "Epoch 101/250\n",
      "1/1 [==============================] - 0s 15ms/step - loss: 0.0033 - accuracy: 0.8750 - val_loss: 0.0011 - val_accuracy: 0.6000\n",
      "Epoch 102/250\n",
      "1/1 [==============================] - 0s 14ms/step - loss: 0.0021 - accuracy: 0.9583 - val_loss: 9.4917e-04 - val_accuracy: 0.6000\n",
      "Epoch 103/250\n",
      "1/1 [==============================] - 0s 16ms/step - loss: 0.0044 - accuracy: 0.9167 - val_loss: 6.3184e-04 - val_accuracy: 0.6000\n",
      "Epoch 104/250\n",
      "1/1 [==============================] - 0s 15ms/step - loss: 0.0032 - accuracy: 0.9583 - val_loss: 3.7662e-04 - val_accuracy: 0.6000\n",
      "Epoch 105/250\n",
      "1/1 [==============================] - 0s 16ms/step - loss: 0.0037 - accuracy: 0.9167 - val_loss: 3.1029e-04 - val_accuracy: 0.8000\n",
      "Epoch 106/250\n",
      "1/1 [==============================] - 0s 22ms/step - loss: 0.0016 - accuracy: 0.9167 - val_loss: 2.9785e-04 - val_accuracy: 0.8000\n",
      "Epoch 107/250\n",
      "1/1 [==============================] - 0s 16ms/step - loss: 0.0031 - accuracy: 0.9167 - val_loss: 3.2555e-04 - val_accuracy: 0.8000\n",
      "Epoch 108/250\n",
      "1/1 [==============================] - 0s 16ms/step - loss: 0.0047 - accuracy: 0.8750 - val_loss: 5.5621e-04 - val_accuracy: 0.8000\n",
      "Epoch 109/250\n",
      "1/1 [==============================] - 0s 14ms/step - loss: 0.0031 - accuracy: 0.9167 - val_loss: 7.7012e-04 - val_accuracy: 0.8000\n",
      "Epoch 110/250\n",
      "1/1 [==============================] - 0s 16ms/step - loss: 0.0032 - accuracy: 0.9167 - val_loss: 7.5363e-04 - val_accuracy: 0.8000\n",
      "Epoch 111/250\n",
      "1/1 [==============================] - 0s 15ms/step - loss: 0.0021 - accuracy: 0.9167 - val_loss: 7.4119e-04 - val_accuracy: 0.8000\n",
      "Epoch 112/250\n",
      "1/1 [==============================] - 0s 14ms/step - loss: 0.0039 - accuracy: 0.9583 - val_loss: 3.5152e-04 - val_accuracy: 0.8000\n",
      "Epoch 113/250\n",
      "1/1 [==============================] - 0s 14ms/step - loss: 0.0026 - accuracy: 0.8750 - val_loss: 3.5778e-04 - val_accuracy: 0.8000\n",
      "Epoch 114/250\n",
      "1/1 [==============================] - 0s 17ms/step - loss: 0.0025 - accuracy: 0.8750 - val_loss: 6.6770e-04 - val_accuracy: 0.6000\n",
      "Epoch 115/250\n",
      "1/1 [==============================] - 0s 16ms/step - loss: 0.0028 - accuracy: 0.9583 - val_loss: 0.0010 - val_accuracy: 0.4000\n",
      "Epoch 116/250\n",
      "1/1 [==============================] - 0s 17ms/step - loss: 0.0022 - accuracy: 0.9583 - val_loss: 0.0013 - val_accuracy: 0.4000\n",
      "Epoch 117/250\n",
      "1/1 [==============================] - 0s 15ms/step - loss: 0.0033 - accuracy: 1.0000 - val_loss: 0.0013 - val_accuracy: 0.4000\n",
      "Epoch 118/250\n",
      "1/1 [==============================] - 0s 14ms/step - loss: 0.0031 - accuracy: 0.8750 - val_loss: 0.0013 - val_accuracy: 0.2000\n",
      "Epoch 119/250\n",
      "1/1 [==============================] - 0s 15ms/step - loss: 0.0027 - accuracy: 0.9167 - val_loss: 0.0014 - val_accuracy: 0.2000\n",
      "Epoch 120/250\n",
      "1/1 [==============================] - 0s 16ms/step - loss: 0.0020 - accuracy: 0.9167 - val_loss: 0.0014 - val_accuracy: 0.0000e+00\n",
      "Epoch 121/250\n",
      "1/1 [==============================] - 0s 14ms/step - loss: 0.0025 - accuracy: 0.9167 - val_loss: 0.0013 - val_accuracy: 0.2000\n",
      "Epoch 122/250\n",
      "1/1 [==============================] - 0s 14ms/step - loss: 0.0023 - accuracy: 1.0000 - val_loss: 0.0012 - val_accuracy: 0.2000\n",
      "Epoch 123/250\n",
      "1/1 [==============================] - 0s 15ms/step - loss: 0.0014 - accuracy: 0.8750 - val_loss: 0.0012 - val_accuracy: 0.2000\n",
      "Epoch 124/250\n",
      "1/1 [==============================] - 0s 14ms/step - loss: 0.0015 - accuracy: 0.9583 - val_loss: 0.0012 - val_accuracy: 0.2000\n",
      "Epoch 125/250\n",
      "1/1 [==============================] - 0s 16ms/step - loss: 0.0032 - accuracy: 1.0000 - val_loss: 0.0011 - val_accuracy: 0.2000\n",
      "Epoch 126/250\n",
      "1/1 [==============================] - 0s 18ms/step - loss: 0.0028 - accuracy: 0.9167 - val_loss: 0.0010 - val_accuracy: 0.0000e+00\n",
      "Epoch 127/250\n",
      "1/1 [==============================] - 0s 16ms/step - loss: 0.0023 - accuracy: 0.9167 - val_loss: 8.3525e-04 - val_accuracy: 0.0000e+00\n",
      "Epoch 128/250\n",
      "1/1 [==============================] - 0s 14ms/step - loss: 0.0016 - accuracy: 0.9583 - val_loss: 7.0206e-04 - val_accuracy: 0.2000\n",
      "Epoch 129/250\n",
      "1/1 [==============================] - 0s 14ms/step - loss: 0.0041 - accuracy: 1.0000 - val_loss: 6.9126e-04 - val_accuracy: 0.2000\n",
      "Epoch 130/250\n",
      "1/1 [==============================] - 0s 14ms/step - loss: 0.0027 - accuracy: 0.9583 - val_loss: 8.7943e-04 - val_accuracy: 0.4000\n",
      "Epoch 131/250\n",
      "1/1 [==============================] - 0s 16ms/step - loss: 0.0024 - accuracy: 0.7917 - val_loss: 0.0013 - val_accuracy: 0.4000\n",
      "Epoch 132/250\n",
      "1/1 [==============================] - 0s 15ms/step - loss: 0.0022 - accuracy: 0.8750 - val_loss: 0.0016 - val_accuracy: 0.4000\n",
      "Epoch 133/250\n",
      "1/1 [==============================] - 0s 16ms/step - loss: 0.0035 - accuracy: 0.9167 - val_loss: 0.0015 - val_accuracy: 0.6000\n",
      "Epoch 134/250\n",
      "1/1 [==============================] - 0s 14ms/step - loss: 0.0030 - accuracy: 0.9167 - val_loss: 0.0014 - val_accuracy: 0.6000\n",
      "Epoch 135/250\n",
      "1/1 [==============================] - 0s 15ms/step - loss: 0.0017 - accuracy: 0.9167 - val_loss: 0.0012 - val_accuracy: 0.6000\n",
      "Epoch 136/250\n",
      "1/1 [==============================] - 0s 16ms/step - loss: 0.0019 - accuracy: 0.9167 - val_loss: 9.1494e-04 - val_accuracy: 0.6000\n",
      "Epoch 137/250\n",
      "1/1 [==============================] - 0s 16ms/step - loss: 0.0043 - accuracy: 0.8750 - val_loss: 5.6961e-04 - val_accuracy: 0.6000\n",
      "Epoch 138/250\n",
      "1/1 [==============================] - 0s 15ms/step - loss: 0.0017 - accuracy: 0.9583 - val_loss: 4.2884e-04 - val_accuracy: 0.6000\n",
      "Epoch 139/250\n",
      "1/1 [==============================] - 0s 18ms/step - loss: 0.0024 - accuracy: 0.8750 - val_loss: 3.4331e-04 - val_accuracy: 0.6000\n",
      "Epoch 140/250\n",
      "1/1 [==============================] - 0s 16ms/step - loss: 0.0019 - accuracy: 0.9583 - val_loss: 3.7675e-04 - val_accuracy: 0.6000\n",
      "Epoch 141/250\n",
      "1/1 [==============================] - 0s 16ms/step - loss: 0.0018 - accuracy: 0.8750 - val_loss: 4.7014e-04 - val_accuracy: 0.4000\n",
      "Epoch 142/250\n",
      "1/1 [==============================] - 0s 14ms/step - loss: 0.0034 - accuracy: 0.9167 - val_loss: 7.7569e-04 - val_accuracy: 0.4000\n",
      "Epoch 143/250\n",
      "1/1 [==============================] - 0s 14ms/step - loss: 0.0014 - accuracy: 0.9583 - val_loss: 0.0011 - val_accuracy: 0.2000\n",
      "Epoch 144/250\n",
      "1/1 [==============================] - 0s 15ms/step - loss: 0.0020 - accuracy: 0.9167 - val_loss: 0.0014 - val_accuracy: 0.2000\n",
      "Epoch 145/250\n",
      "1/1 [==============================] - 0s 16ms/step - loss: 0.0037 - accuracy: 0.9167 - val_loss: 0.0013 - val_accuracy: 0.0000e+00\n",
      "Epoch 146/250\n",
      "1/1 [==============================] - 0s 16ms/step - loss: 0.0025 - accuracy: 0.9167 - val_loss: 0.0013 - val_accuracy: 0.2000\n",
      "Epoch 147/250\n",
      "1/1 [==============================] - 0s 16ms/step - loss: 0.0014 - accuracy: 1.0000 - val_loss: 0.0013 - val_accuracy: 0.2000\n",
      "Epoch 148/250\n",
      "1/1 [==============================] - 0s 16ms/step - loss: 0.0018 - accuracy: 0.9583 - val_loss: 0.0013 - val_accuracy: 0.2000\n",
      "Epoch 149/250\n",
      "1/1 [==============================] - 0s 16ms/step - loss: 0.0032 - accuracy: 0.9583 - val_loss: 0.0017 - val_accuracy: 0.2000\n",
      "Epoch 150/250\n",
      "1/1 [==============================] - 0s 15ms/step - loss: 0.0016 - accuracy: 0.9167 - val_loss: 0.0020 - val_accuracy: 0.2000\n",
      "Epoch 151/250\n",
      "1/1 [==============================] - 0s 15ms/step - loss: 0.0023 - accuracy: 0.9167 - val_loss: 0.0021 - val_accuracy: 0.0000e+00\n",
      "Epoch 152/250\n",
      "1/1 [==============================] - 0s 16ms/step - loss: 0.0026 - accuracy: 0.9583 - val_loss: 0.0019 - val_accuracy: 0.0000e+00\n",
      "Epoch 153/250\n",
      "1/1 [==============================] - 0s 15ms/step - loss: 0.0021 - accuracy: 0.9167 - val_loss: 0.0015 - val_accuracy: 0.2000\n",
      "Epoch 154/250\n",
      "1/1 [==============================] - 0s 18ms/step - loss: 0.0017 - accuracy: 0.9583 - val_loss: 0.0013 - val_accuracy: 0.2000\n",
      "Epoch 155/250\n",
      "1/1 [==============================] - 0s 18ms/step - loss: 0.0027 - accuracy: 0.9583 - val_loss: 8.1508e-04 - val_accuracy: 0.4000\n",
      "Epoch 156/250\n",
      "1/1 [==============================] - 0s 17ms/step - loss: 0.0017 - accuracy: 0.9583 - val_loss: 4.4340e-04 - val_accuracy: 0.6000\n",
      "[Model] Training Completed. Model saved as saved_models\\COVID19_LSTM.h5\n"
     ]
    },
    {
     "data": {
      "image/png": "[encoded data removed]",
      "text/plain": [
       "<Figure size 432x288 with 1 Axes>"
      ]
     },
     "metadata": {
      "needs_background": "light"
     },
     "output_type": "display_data"
    },
    {
     "name": "stdout",
     "output_type": "stream",
     "text": [
      "22 22 22\n"
     ]
    },
    {
     "data": {
      "image/png": "[encoded data removed]",
      "text/plain": [
       "<Figure size 1224x504 with 2 Axes>"
      ]
     },
     "metadata": {
      "needs_background": "light"
     },
     "output_type": "display_data"
    }
   ],
   "source": [
    "nfeatures = data.shape[1]\n",
    "time_step = 6\n",
    "# Data generator\n",
    "\n",
    "model = aLSTM(time_step, nfeatures=nfeatures)\n",
    "print('[Model] Training Started')\n",
    "print('[Model] %s epochs, %s batch size' % (epochs, batch_size))\n",
    "\n",
    "# model.load_weights(save_fname)\n",
    "callbacks = [\n",
    "    EarlyStopping(monitor='val_loss', patience=50),\n",
    "    ModelCheckpoint(filepath=save_fname, monitor='val_loss', save_best_only=True),\n",
    "#     TensorBoard(log_dir='./logs')\n",
    "]\n",
    "history = model.fit(x=X_train,y=Y_train, \n",
    "                    validation_data=(X_val,Y_val),\n",
    "                    validation_steps=1,\n",
    "                    callbacks=callbacks,steps_per_epoch=1,epochs=epochs,verbose=1)\n",
    "model.save(save_fname)\n",
    "print('[Model] Training Completed. Model saved as %s' % save_fname)\n",
    "printFigure(history)\n",
    "# Performance in train data\n",
    "Confirmed_train, Fatalities_train = plotTrainFigure(model, train_generator, data, sc2, time_step, country=country)"
   ]
  },
  {
   "cell_type": "code",
   "execution_count": null,
   "metadata": {},
   "outputs": [],
   "source": [
    "# Confirmed_train, Fatalities_train = plotTrainFigure(model, train_generator, data, sc2, time_step, country=country)"
   ]
  },
  {
   "cell_type": "code",
   "execution_count": null,
   "metadata": {},
   "outputs": [],
   "source": []
  },
  {
   "cell_type": "code",
   "execution_count": null,
   "metadata": {},
   "outputs": [],
   "source": []
  },
  {
   "cell_type": "code",
   "execution_count": 151,
   "metadata": {},
   "outputs": [
    {
     "name": "stdout",
     "output_type": "stream",
     "text": [
      "0\n",
      "0.92948985 1.0 1.0099335 1.0\n"
     ]
    }
   ],
   "source": [
    "for i in range(len(validation_gen)):\n",
    "    print(i)\n",
    "    testx, testy = validation_gen[i]\n",
    "\n",
    "    pre = model.predict(testx)\n",
    "\n",
    "    confirmed_pre = pre[0][0]\n",
    "    confirmed_truth = testy[0][0]\n",
    "    fatalities_pre = pre[0][1]\n",
    "    fatalities_truth = testy[0][1]\n",
    "    print(confirmed_pre,  confirmed_truth,  fatalities_pre, fatalities_truth)"
   ]
  }
 ],
 "metadata": {
  "kernelspec": {
   "display_name": "Python 3",
   "language": "python",
   "name": "python3"
  },
  "language_info": {
   "codemirror_mode": {
    "name": "ipython",
    "version": 3
   },
   "file_extension": ".py",
   "mimetype": "text/x-python",
   "name": "python",
   "nbconvert_exporter": "python",
   "pygments_lexer": "ipython3",
   "version": "3.7.6"
  }
 },
 "nbformat": 4,
 "nbformat_minor": 4
}
